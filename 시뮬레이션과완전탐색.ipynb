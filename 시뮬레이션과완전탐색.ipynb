{
 "cells": [
  {
   "cell_type": "markdown",
   "metadata": {},
   "source": [
    "흔히 알고리즘 대회에서 구현 유형의 문제란?\n",
    "- 풀이를 떠올리는 것은 쉽지만 소스코드로 옮기기 어려운 문제를 치칭\n",
    "\n",
    "구현 유형의 예시\n",
    "- 알고리즘은 간단한데 코드가 지나칠 만큼 길어지는 문제\n",
    "- 실수 연산을 다루고, 특정 소수점 자리까지 출력해야 하는 문제\n",
    "- 문자열을 특정한 기준에 따라서 끊어 처리해야하는 문제\n",
    "- 적절한 라이브러리를 찾아서 사용해야 하는 문제\n",
    "\n",
    "일반적으로 알고리즘 문제에서는 2차원 공간은 행렬(Matrix)의 의미로 사용"
   ]
  },
  {
   "cell_type": "markdown",
   "metadata": {},
   "source": [
    "시뮬레이션 및 완전 탐색 문제에서는 2차원 공간에서의 방향 벡터가 자주 활용된다.  \n",
    "\n",
    "<img src=\"./images/coma_15.png\" width=\"50%\" height=\"50%\" align=\"left\"></img>    "
   ]
  },
  {
   "cell_type": "code",
   "execution_count": 1,
   "metadata": {},
   "outputs": [
    {
     "name": "stdout",
     "output_type": "stream",
     "text": [
      "2 3\n",
      "1 2\n",
      "2 1\n",
      "3 2\n"
     ]
    }
   ],
   "source": [
    "# 동, 북, 서, 남\n",
    "dx = [0, -1, 0, 1]\n",
    "dy = [1, 0, -1, 0]\n",
    "\n",
    "# 현재 위치\n",
    "x, y = 2, 2\n",
    "\n",
    "for i in range(4):\n",
    "    # 다음 위치\n",
    "    nx = x + dx[i]\n",
    "    ny = y + dy[i]\n",
    "    print(nx, ny)"
   ]
  },
  {
   "cell_type": "markdown",
   "metadata": {},
   "source": [
    "<img src=\"./images/coma_12.png\" width=\"70%\" height=\"70%\" align=\"left\"></img>    \n",
    "<img src=\"./images/coma_13.png\" width=\"70%\" height=\"70%\" align=\"left\"></img>    \n",
    "<img src=\"./images/coma_14.png\" width=\"70%\" height=\"70%\" align=\"left\"></img>    "
   ]
  },
  {
   "cell_type": "markdown",
   "metadata": {},
   "source": [
    "내 풀이"
   ]
  },
  {
   "cell_type": "code",
   "execution_count": 7,
   "metadata": {},
   "outputs": [
    {
     "name": "stdout",
     "output_type": "stream",
     "text": [
      "0\n",
      "x, y : (1, 2)\n",
      "0\n",
      "x, y : (1, 3)\n",
      "0\n",
      "x, y : (1, 4)\n",
      "1\n",
      "3\n",
      "x, y : (2, 4)\n",
      "3\n",
      "x, y : (3, 4)\n",
      "3 4\n"
     ]
    }
   ],
   "source": [
    "# 동, 북, 서, 남\n",
    "dx = [0, -1, 0, 1]\n",
    "dy = [1, 0, -1, 0]\n",
    "\n",
    "# R U L D\n",
    "\n",
    "# 현재 위치\n",
    "x, y = 1, 1\n",
    "n = 5\n",
    "\n",
    "move_plan = ['R','R','R','U','D','D']\n",
    "\n",
    "for i in move_plan:\n",
    "    if i == 'R':\n",
    "        j = 0\n",
    "    elif i == 'U':\n",
    "        j = 1\n",
    "    elif i == 'L':\n",
    "        j = 2\n",
    "    elif i == 'D':\n",
    "        j= 3\n",
    "    \n",
    "    print(j)\n",
    "    # 다음 위치\n",
    "    nx = x + dx[j]\n",
    "    ny = y + dy[j]\n",
    "    \n",
    "    if nx > n or nx <= 0 or ny > n or ny <= 0:\n",
    "        continue\n",
    "    else:       \n",
    "        x, y = nx, ny\n",
    "        print(f'x, y : {(x, y)}')\n",
    "\n",
    "print(nx, ny)"
   ]
  },
  {
   "cell_type": "markdown",
   "metadata": {},
   "source": [
    "문제 풀이"
   ]
  },
  {
   "cell_type": "markdown",
   "metadata": {},
   "source": [
    "<img src=\"./images/coma_16.png\" width=\"70%\" height=\"70%\" align=\"left\"></img>    "
   ]
  },
  {
   "cell_type": "code",
   "execution_count": 9,
   "metadata": {},
   "outputs": [
    {
     "name": "stdout",
     "output_type": "stream",
     "text": [
      "5\n",
      "R R R U D D\n",
      "3 4\n"
     ]
    }
   ],
   "source": [
    "# N 입력 받기\n",
    "n = int(input())\n",
    "x, y = 1, 1\n",
    "plans = input().split()\n",
    "\n",
    "# L, R, U, D에 따른 이동 방향\n",
    "dx = [0, 0, -1, 1]\n",
    "dy = [-1, 1, 0, 0]\n",
    "move_types = ['L', 'R', 'U', 'D']\n",
    "\n",
    "# 이동 계획을 하나씩 확인하기\n",
    "for plan in plans:\n",
    "    # 이동 후 좌표 구하기 \n",
    "    for i in range(len(move_types)):\n",
    "        if plan == move_types[i]:\n",
    "            nx = x + dx[i]\n",
    "            ny = y + dy[i]\n",
    "    # 공간을 벗어나는 경우 무시\n",
    "    if nx < 1 or ny < 1 or nx > n or ny > n:\n",
    "        continue\n",
    "    # 이동 수행\n",
    "    x, y = nx, ny\n",
    "\n",
    "print(x, y)"
   ]
  },
  {
   "cell_type": "markdown",
   "metadata": {},
   "source": [
    "<img src=\"./images/coma_17.png\" width=\"70%\" height=\"70%\" align=\"left\"></img>    \n",
    "<img src=\"./images/coma_18.png\" width=\"70%\" height=\"70%\" align=\"left\"></img>  "
   ]
  },
  {
   "cell_type": "code",
   "execution_count": 2,
   "metadata": {},
   "outputs": [
    {
     "name": "stdout",
     "output_type": "stream",
     "text": [
      "5\n",
      "11475\n"
     ]
    }
   ],
   "source": [
    "n = int(input())\n",
    "\n",
    "count = 0\n",
    "for i in range(n+1):\n",
    "    for j in range(60):\n",
    "        for k in range(60):\n",
    "            # 매 시각 안에 '3'이 포함되어 있다면 카운트 증가 \n",
    "            if '3' in str(i)+str(j)+str(k):\n",
    "                count += 1\n",
    "    \n",
    "print(count)    "
   ]
  },
  {
   "cell_type": "markdown",
   "metadata": {},
   "source": [
    "<img src=\"./images/coma_19.png\" width=\"70%\" height=\"70%\" align=\"left\"></img>    \n",
    "<img src=\"./images/coma_20.png\" width=\"70%\" height=\"70%\" align=\"left\"></img> \n",
    "<img src=\"./images/coma_21.png\" width=\"70%\" height=\"70%\" align=\"left\"></img>    \n",
    "<img src=\"./images/coma_22.png\" width=\"70%\" height=\"70%\" align=\"left\"></img> "
   ]
  },
  {
   "cell_type": "code",
   "execution_count": 1,
   "metadata": {},
   "outputs": [
    {
     "name": "stdout",
     "output_type": "stream",
     "text": [
      "c2\n",
      "6\n"
     ]
    }
   ],
   "source": [
    "# 현재 나이트의 위치 입력받기\n",
    "input_data = input()\n",
    "row = int(input_data[1])\n",
    "column = int(ord(input_data[0])) - int(ord('a')) + 1\n",
    "\n",
    "# 나이트가 이동할 수 있는 8가지 방향 정의\n",
    "steps = [(-2,-1),(-1,-2),(1,-2),(2,-1),(2,1),(1,2),(-1,2),(-2,1)]\n",
    "\n",
    "# 8가지 방향에 대하여 각 위치로 이동이 가능한지 확인\n",
    "result = 0\n",
    "for step in steps:\n",
    "    # 이동하고자 하는 위치 확인\n",
    "    next_row = row + step[0]\n",
    "    next_column = column + step[1]\n",
    "    # 해당 위치로 이동이 가능하다면 카운트 증가\n",
    "    if next_row >=1 and next_row <=8 and next_column >=1 and next_column <=8:\n",
    "        result += 1\n",
    "        \n",
    "print(result)"
   ]
  },
  {
   "cell_type": "markdown",
   "metadata": {},
   "source": [
    "<img src=\"./images/coma_23.png\" width=\"70%\" height=\"70%\" align=\"left\"></img>    \n",
    "<img src=\"./images/coma_24.png\" width=\"70%\" height=\"70%\" align=\"left\"></img> "
   ]
  },
  {
   "cell_type": "code",
   "execution_count": 6,
   "metadata": {},
   "outputs": [],
   "source": [
    "s = 'K1KA5CB7'"
   ]
  },
  {
   "cell_type": "code",
   "execution_count": 17,
   "metadata": {},
   "outputs": [
    {
     "name": "stdout",
     "output_type": "stream",
     "text": [
      "['1', '5', '7', 'A', 'B', 'C', 'K', 'K']\n",
      "1\n",
      "5\n",
      "7\n"
     ]
    }
   ],
   "source": [
    "l = []\n",
    "for i in s:\n",
    "    l.append(i)\n",
    "l.sort()\n",
    "print(l)\n",
    "d = 0\n",
    "for j in l:\n",
    "    if j.isdigit():\n",
    "        print(j)"
   ]
  },
  {
   "cell_type": "markdown",
   "metadata": {},
   "source": [
    "<img src=\"./images/coma_25.png\" width=\"70%\" height=\"70%\" align=\"left\"></img> "
   ]
  },
  {
   "cell_type": "code",
   "execution_count": 18,
   "metadata": {},
   "outputs": [
    {
     "name": "stdout",
     "output_type": "stream",
     "text": [
      "K1KA5CB7\n",
      "ABCKK13\n"
     ]
    }
   ],
   "source": [
    "data = input()\n",
    "result = []\n",
    "value = 0\n",
    "\n",
    "\n",
    "# 문자를 하나씩 확인하며\n",
    "for x in data:\n",
    "    # 알파벳인 경우 결과 리스트에 삽입\n",
    "    if x.isalpha():\n",
    "        result.append(x)\n",
    "    # 숫자는 따로 더하기\n",
    "    else:\n",
    "        value += int(x)\n",
    "\n",
    "# 알파벳을 오름차순으로 정렬\n",
    "result.sort()\n",
    "\n",
    "# 숫자가 하나라도 존재하는 경우 가장 뒤에 삽입\n",
    "if value != 0:\n",
    "    result.append(str(value))\n",
    "    \n",
    "# 최종 결고 출력(리스트를 문자열로 변환하여 출력)\n",
    "print(''.join(result))"
   ]
  }
 ],
 "metadata": {
  "kernelspec": {
   "display_name": "Python 3",
   "language": "python",
   "name": "python3"
  },
  "language_info": {
   "codemirror_mode": {
    "name": "ipython",
    "version": 3
   },
   "file_extension": ".py",
   "mimetype": "text/x-python",
   "name": "python",
   "nbconvert_exporter": "python",
   "pygments_lexer": "ipython3",
   "version": "3.7.9"
  }
 },
 "nbformat": 4,
 "nbformat_minor": 4
}
