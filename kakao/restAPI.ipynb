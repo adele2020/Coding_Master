{
 "cells": [
  {
   "cell_type": "markdown",
   "metadata": {},
   "source": [
    "## urllib2를 사용하여 [사용자 정보 요청] 호출"
   ]
  },
  {
   "cell_type": "code",
   "execution_count": null,
   "metadata": {},
   "outputs": [],
   "source": [
    "import urllib2\n",
    "\n",
    "API_HOST = 'https://kapi.kakao.com'\n",
    "APP_KEY = 'Bearer  [YOUR_ACCESS_TOKEN]'\n",
    "data = {}\n",
    "\n",
    "def req(path, query, method, data={}):\n",
    "    url = API_HOST + path\n",
    "    print('HTTP Method: %s' % method)\n",
    "    print('Request URL: %s' % url)\n",
    "    print('QueryString: %s' % query)\n",
    "    if 'GET' == method:\n",
    "        req = urllib2.Request(API_HOST + path)\n",
    "    elif 'POST' == method:\n",
    "        req = urllib2.Request(API_HOST + path, data)\n",
    "    req.add_header('Authorization', APP_KEY)\n",
    "    return urllib2.urlopen(req)\n",
    "\n",
    "res = req('/v1/user/me', '', 'POST')\n",
    "\n",
    "print(\"response status:\\n%d\" % res.getcode())\n",
    "print(\"response info:\\n%s\" % res.info())\n",
    "print(\"response body:\\n%s\" % res.read())"
   ]
  },
  {
   "cell_type": "markdown",
   "metadata": {},
   "source": [
    "## requests를 사용하여 [사용자 정보 요청] 호출"
   ]
  },
  {
   "cell_type": "code",
   "execution_count": null,
   "metadata": {},
   "outputs": [],
   "source": [
    "import requests\n",
    "\n",
    "API_HOST = 'https://kapi.kakao.com'\n",
    "headers = {'Authorization': 'Bearer [YOUR_ACCESS_TOKEN]'}\n",
    "\n",
    "def req(path, query, method, data={}):\n",
    "    url = API_HOST + path\n",
    "    print('HTTP Method: %s' % method)\n",
    "    print('Request URL: %s' % url)\n",
    "    print('Headers: %s' % headers)\n",
    "    print('QueryString: %s' % query)\n",
    "\n",
    "    if method == 'GET':\n",
    "        return requests.get(url, headers=headers)\n",
    "    else:\n",
    "        return requests.post(url, headers=headers, data=data)\n",
    "\n",
    "resp = req('/v1/user/me', '', 'GET')\n",
    "print(\"response status:\\n%d\" % resp.status_code)\n",
    "print(\"response headers:\\n%s\" % resp.headers)\n",
    "print(\"response body:\\n%s\" % resp.text)"
   ]
  },
  {
   "cell_type": "markdown",
   "metadata": {},
   "source": [
    "## requests를 사용하여 [나에게 보내기] 호출"
   ]
  },
  {
   "cell_type": "code",
   "execution_count": null,
   "metadata": {},
   "outputs": [],
   "source": [
    "import requests\n",
    "\n",
    "API_HOST = 'https://kapi.kakao.com'\n",
    "headers = {'Authorization': 'Bearer [YOUR_ACCESS_TOKEN]'}\n",
    "data = {}\n",
    "\n",
    "def req(path, query, method, data={}):\n",
    "    url = API_HOST + path\n",
    "\n",
    "    print('HTTP Method: %s' % method)\n",
    "    print('Request URL: %s' % url)\n",
    "    print('Headers: %s' % headers)\n",
    "    print('QueryString: %s' % query)\n",
    "\n",
    "    if method == 'GET':\n",
    "        return requests.get(url, headers=headers)\n",
    "    else:\n",
    "        return requests.post(url, headers=headers, data=data)\n",
    "\n",
    "template_id = 0 # 메시지 템플릿 v2의 아이디\n",
    "params = {\"template_id\": {template_id}, \"templates_args\":{\"name\":\"홍길동\"}}\n",
    "resp = req('/v2/api/talk/memo/send', '', 'POST', params)\n",
    "print(\"response status:\\n%d\" % resp.status_code)\n",
    "print(\"response headers:\\n%s\" % resp.headers)\n",
    "print(\"response body:\\n%s\" % resp.text)"
   ]
  }
 ],
 "metadata": {
  "kernelspec": {
   "display_name": "Python 3",
   "language": "python",
   "name": "python3"
  },
  "language_info": {
   "codemirror_mode": {
    "name": "ipython",
    "version": 3
   },
   "file_extension": ".py",
   "mimetype": "text/x-python",
   "name": "python",
   "nbconvert_exporter": "python",
   "pygments_lexer": "ipython3",
   "version": "3.8.3"
  }
 },
 "nbformat": 4,
 "nbformat_minor": 4
}
