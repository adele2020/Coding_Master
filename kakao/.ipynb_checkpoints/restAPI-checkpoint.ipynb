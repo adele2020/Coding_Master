{
 "cells": [
  {
   "cell_type": "markdown",
   "metadata": {},
   "source": [
    "## REST API\n",
    "- REST (Representational State Transfer)는 각 자원(Resource)에 대하여 자원의 상태에 대한 정보를 주고 받는 개발 방식을 의미\n",
    "- REST 의 구성요소\n",
    "    + 자원(Resource) : URI를 이용\n",
    "    + 행위(Verb) : HTTP 메서드를 이용 (GET, POST, DELETE, PUT 등 )\n",
    "    + 표션(Representations): 페이로드를 이용\n",
    "    \n",
    "    클라이언트 `<-->` 서버  \n",
    "    < 사용자 회원 등록을 하고 싶어요>  \n",
    "    URI : https://www.example.com/users  \n",
    "    HTTP Method: POST  \n",
    "    Payload: {\"id\":\"gildong123\",\"password\":\"1!2!3!#%\"}  \n",
    "    \n",
    "- API (Application Programming Interface) : 프로그램이 상호작용하기 위한 인터페이스를 의미\n",
    "- REST API : REST 아키텍쳐를 따르는 API를 의미한다. \n",
    "- REST API 호출 : REST 방식을 따르고 있는 서버에 특정한 요청을 전송하는 것을 의미한다.\n",
    "## JSON\n",
    "- JSON(JavaScript Object Notation): 데이터를 주고받는 데 사용하는 경량의 데이터 형식\n",
    "- JSON 형식을 따르는 데이터 예시는 다음과 같다. \n",
    "`{\"id\":\"gildong123\",\"password\":\"1!2!3!#%\", \"hobby\":[\"NONE\",\"NONE\"]} `\n",
    "- JSON 데이터는 키와 값의 쌍으로 이루어진 데이터 객체를 저장한다. "
   ]
  },
  {
   "cell_type": "code",
   "execution_count": null,
   "metadata": {},
   "outputs": [],
   "source": [
    "import requests\n",
    "\n",
    "target = \"http://google.com\"\n",
    "response = requests.get(url = target)\n",
    "print(response.text)"
   ]
  },
  {
   "cell_type": "code",
   "execution_count": 2,
   "metadata": {},
   "outputs": [
    {
     "name": "stdout",
     "output_type": "stream",
     "text": [
      "{\n",
      "    \"id\": \"gildong\",\n",
      "    \"password\": \"1!!@#$@!\",\n",
      "    \"age\": 30,\n",
      "    \"hobby\": [\n",
      "        \"football\",\n",
      "        \"programming\"\n",
      "    ]\n",
      "}\n"
     ]
    }
   ],
   "source": [
    "import json\n",
    "\n",
    "# 사전 자료형(dict) 데이터 선언\n",
    "user = {\n",
    "    \"id\" : \"gildong\",\n",
    "    \"password\" : \"1!!@#$@!\",\n",
    "    \"age\" : 30,\n",
    "    \"hobby\" : [\"football\", \"programming\"]\n",
    "}\n",
    "\n",
    "# 파이썬 변수를 JSON 객체로 변환\n",
    "json_data = json.dumps(user, indent=4)\n",
    "print(json_data)"
   ]
  },
  {
   "cell_type": "code",
   "execution_count": null,
   "metadata": {},
   "outputs": [],
   "source": [
    "# json형식 데이터를 json파일로 저장 \n",
    "with open(\"user.json\",\"w\",encoding=\"utf-8\") as file:\n",
    "    json_data = json.dump(user, file, indent=4)"
   ]
  },
  {
   "cell_type": "markdown",
   "metadata": {},
   "source": [
    "## REST API 연습용 서비스\n",
    "- 목킹(Mocking)이란 어떠한 기능이 있는 것처럼 흉내내어 구현한 것을 의미한다. \n",
    "- 가상의 REST API 제공 서비스 : https://jsonplaceholder.typicode.com/"
   ]
  },
  {
   "cell_type": "markdown",
   "metadata": {},
   "source": [
    "### REST API 호출 실습해보기\n",
    "#### id가 1인 사용자   \n",
    "- API 호출 경로 : https://jsonplaceholder.typicode.com/users/1  \n",
    "- HTTP 메서드 : GET  \n",
    "\n",
    "<img src=\"./images/coma_118.png\"></img>\n",
    "<img src=\"./images/coma_117.png\"></img>\n",
    "\n",
    "#### 모든 사용자의 정보    \n",
    "- API 호출 경로 : https://jsonplaceholder.typicode.com/users/  \n",
    "- HTTP 메서드 : GET   "
   ]
  },
  {
   "cell_type": "code",
   "execution_count": null,
   "metadata": {},
   "outputs": [],
   "source": [
    " "
   ]
  },
  {
   "cell_type": "markdown",
   "metadata": {},
   "source": [
    "## urllib2를 사용하여 [사용자 정보 요청] 호출"
   ]
  },
  {
   "cell_type": "code",
   "execution_count": null,
   "metadata": {},
   "outputs": [],
   "source": [
    "import urllib2\n",
    "\n",
    "API_HOST = 'https://kapi.kakao.com'\n",
    "APP_KEY = 'Bearer  [YOUR_ACCESS_TOKEN]'\n",
    "data = {}\n",
    "\n",
    "def req(path, query, method, data={}):\n",
    "    url = API_HOST + path\n",
    "    print('HTTP Method: %s' % method)\n",
    "    print('Request URL: %s' % url)\n",
    "    print('QueryString: %s' % query)\n",
    "    if 'GET' == method:\n",
    "        req = urllib2.Request(API_HOST + path)\n",
    "    elif 'POST' == method:\n",
    "        req = urllib2.Request(API_HOST + path, data)\n",
    "    req.add_header('Authorization', APP_KEY)\n",
    "    return urllib2.urlopen(req)\n",
    "\n",
    "res = req('/v1/user/me', '', 'POST')\n",
    "\n",
    "print(\"response status:\\n%d\" % res.getcode())\n",
    "print(\"response info:\\n%s\" % res.info())\n",
    "print(\"response body:\\n%s\" % res.read())"
   ]
  },
  {
   "cell_type": "markdown",
   "metadata": {},
   "source": [
    "## requests를 사용하여 [사용자 정보 요청] 호출"
   ]
  },
  {
   "cell_type": "code",
   "execution_count": null,
   "metadata": {},
   "outputs": [],
   "source": [
    "import requests\n",
    "\n",
    "API_HOST = 'https://kapi.kakao.com'\n",
    "headers = {'Authorization': 'Bearer [YOUR_ACCESS_TOKEN]'}\n",
    "\n",
    "def req(path, query, method, data={}):\n",
    "    url = API_HOST + path\n",
    "    print('HTTP Method: %s' % method)\n",
    "    print('Request URL: %s' % url)\n",
    "    print('Headers: %s' % headers)\n",
    "    print('QueryString: %s' % query)\n",
    "\n",
    "    if method == 'GET':\n",
    "        return requests.get(url, headers=headers)\n",
    "    else:\n",
    "        return requests.post(url, headers=headers, data=data)\n",
    "\n",
    "resp = req('/v1/user/me', '', 'GET')\n",
    "print(\"response status:\\n%d\" % resp.status_code)\n",
    "print(\"response headers:\\n%s\" % resp.headers)\n",
    "print(\"response body:\\n%s\" % resp.text)"
   ]
  },
  {
   "cell_type": "markdown",
   "metadata": {},
   "source": [
    "## requests를 사용하여 [나에게 보내기] 호출"
   ]
  },
  {
   "cell_type": "code",
   "execution_count": null,
   "metadata": {},
   "outputs": [],
   "source": [
    "import requests\n",
    "\n",
    "API_HOST = 'https://kapi.kakao.com'\n",
    "headers = {'Authorization': 'Bearer [YOUR_ACCESS_TOKEN]'}\n",
    "data = {}\n",
    "\n",
    "def req(path, query, method, data={}):\n",
    "    url = API_HOST + path\n",
    "\n",
    "    print('HTTP Method: %s' % method)\n",
    "    print('Request URL: %s' % url)\n",
    "    print('Headers: %s' % headers)\n",
    "    print('QueryString: %s' % query)\n",
    "\n",
    "    if method == 'GET':\n",
    "        return requests.get(url, headers=headers)\n",
    "    else:\n",
    "        return requests.post(url, headers=headers, data=data)\n",
    "\n",
    "template_id = 0 # 메시지 템플릿 v2의 아이디\n",
    "params = {\"template_id\": {template_id}, \"templates_args\":{\"name\":\"홍길동\"}}\n",
    "resp = req('/v2/api/talk/memo/send', '', 'POST', params)\n",
    "print(\"response status:\\n%d\" % resp.status_code)\n",
    "print(\"response headers:\\n%s\" % resp.headers)\n",
    "print(\"response body:\\n%s\" % resp.text)"
   ]
  }
 ],
 "metadata": {
  "kernelspec": {
   "display_name": "Python 3",
   "language": "python",
   "name": "python3"
  },
  "language_info": {
   "codemirror_mode": {
    "name": "ipython",
    "version": 3
   },
   "file_extension": ".py",
   "mimetype": "text/x-python",
   "name": "python",
   "nbconvert_exporter": "python",
   "pygments_lexer": "ipython3",
   "version": "3.7.9"
  }
 },
 "nbformat": 4,
 "nbformat_minor": 4
}
