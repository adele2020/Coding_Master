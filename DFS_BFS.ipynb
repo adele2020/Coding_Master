{
 "cells": [
  {
   "cell_type": "markdown",
   "metadata": {},
   "source": [
    "## 그래프\n",
    "- 수학에서 좀 더 구체적으로 그래프 이론에서 그래프란 객체의 일부 쌍들이 '연관되어'있는 객체 집합 구조를 말한다. \n",
    "- 오일러 경로\n",
    "    + 정점 Vertex, 간선 Edge로 구성된 구조\n",
    "    + 모든 간선을 한 번씩 방문하는 유한 그래프를 일컬어 오일러 경로라 부른다. \n",
    "- 해밀터 경로\n",
    "    + 각 정점을 한 번씩 방문하는 무향 또는 유향 그래프 경로\n",
    "    + 최적 알고리즘이 없는 NP-완전 문제\n",
    "    + TSP(Travelling Salesman Problem) : 최단 거리를 찾는 문제\n",
    "\n",
    "## 그래프 순회\n",
    "- 그래프 순회라고도 불리우며 그래프의 각 정점을 방문하는 과정 "
   ]
  },
  {
   "cell_type": "markdown",
   "metadata": {},
   "source": [
    "\n",
    "## 그래프 탐색 알고리즘: DFS/BFS\n",
    "\n",
    "\n",
    "- 탐색(Search)이란 많은 양의 데이터 중에서 원하는 데이터를 찾는 과정\n",
    "- 대표적이 그래프 탐색 알고리즘으로는 DFS와 BFS가 있다. \n",
    "- DFS/BFS는 코딩 테스트에서 매우 자주 등장하는 유형이므로 반드시 숙지해야 함\n",
    "\n"
   ]
  },
  {
   "cell_type": "code",
   "execution_count": 15,
   "metadata": {},
   "outputs": [
    {
     "name": "stdout",
     "output_type": "stream",
     "text": [
      "[1, 2, 5]\n",
      "[5, 2, 1]\n"
     ]
    }
   ],
   "source": [
    "# 스택 구현 예제\n",
    "stack = []\n",
    "\n",
    "# 삽입(5)-삽입(2)-삽입(3)-삽입(7)-삭제()-삽입(1)-삽입(4)-삭제()\n",
    "stack.append(5)\n",
    "stack.append(2)\n",
    "stack.append(3)\n",
    "stack.pop()\n",
    "stack.append(1)\n",
    "stack.append(4)\n",
    "stack.pop()\n",
    "\n",
    "print(stack[::-1])\n",
    "print(stack)\n"
   ]
  },
  {
   "cell_type": "code",
   "execution_count": 16,
   "metadata": {},
   "outputs": [
    {
     "name": "stdout",
     "output_type": "stream",
     "text": [
      "deque([3, 7, 1, 4])\n",
      "deque([4, 1, 7, 3])\n"
     ]
    }
   ],
   "source": [
    "# 큐 구현 예제\n",
    "from collections import deque\n",
    "\n",
    "queue = deque()\n",
    "\n",
    "queue.append(5)\n",
    "queue.append(2)\n",
    "queue.append(3)\n",
    "queue.append(7)\n",
    "queue.popleft()\n",
    "queue.append(1)\n",
    "queue.append(4)\n",
    "queue.popleft()\n",
    "\n",
    "print(queue)\n",
    "queue.reverse()\n",
    "print(queue)"
   ]
  },
  {
   "cell_type": "markdown",
   "metadata": {},
   "source": [
    "## 재귀함수\n",
    "- 재귀함수(Recursive Function)란 자기 자신을 다시 호출하는 함수를 의미\n",
    "- 단순한 형태의 재귀 함수 예제\n",
    "    + '재귀 함수를 호출합니다.'라는 문자열을 무한히 출력한다. \n",
    "    + 어느 정도 출력하다가 최대 재귀 깊이 초과 메시지가 출력된다. "
   ]
  },
  {
   "cell_type": "code",
   "execution_count": null,
   "metadata": {},
   "outputs": [],
   "source": [
    "def recursive_function():\n",
    "    print('재귀 함수를 호출한다.')\n",
    "    recursive_function()\n",
    "\n",
    "recursive_function()"
   ]
  },
  {
   "cell_type": "markdown",
   "metadata": {},
   "source": [
    "- 재귀 함수를 문제 풀이에서 사용할 때는 재귀 함수의 종료 조건을 반드시 명시해야 한다.\n",
    "- 종료 조건을 제대로 명시하지 않으면 함수가 무한히 호출된다. \n",
    "    + 종료 조건을 포함한 재귀 함수 예제"
   ]
  },
  {
   "cell_type": "code",
   "execution_count": 5,
   "metadata": {},
   "outputs": [
    {
     "name": "stdout",
     "output_type": "stream",
     "text": [
      "1 번째 재귀함수에서 2 번째 재귀함수를 호출한다.\n",
      "2 번째 재귀함수에서 3 번째 재귀함수를 호출한다.\n",
      "3 번째 재귀함수에서 4 번째 재귀함수를 호출한다.\n",
      "4 번째 재귀함수에서 5 번째 재귀함수를 호출한다.\n",
      "5 번째 재귀함수에서 6 번째 재귀함수를 호출한다.\n",
      "6 번째 재귀함수에서 7 번째 재귀함수를 호출한다.\n",
      "7 번째 재귀함수에서 8 번째 재귀함수를 호출한다.\n",
      "8 번째 재귀함수에서 9 번째 재귀함수를 호출한다.\n",
      "9 번째 재귀함수에서 10 번째 재귀함수를 호출한다.\n",
      "10 번째 재귀함수에서 11 번째 재귀함수를 호출한다.\n",
      "11 번째 재귀함수에서 12 번째 재귀함수를 호출한다.\n",
      "12 번째 재귀함수에서 13 번째 재귀함수를 호출한다.\n",
      "13 번째 재귀함수에서 14 번째 재귀함수를 호출한다.\n",
      "14 번째 재귀함수에서 15 번째 재귀함수를 호출한다.\n",
      "15 번째 재귀함수에서 16 번째 재귀함수를 호출한다.\n",
      "16 번째 재귀함수에서 17 번째 재귀함수를 호출한다.\n",
      "17 번째 재귀함수에서 18 번째 재귀함수를 호출한다.\n",
      "18 번째 재귀함수에서 19 번째 재귀함수를 호출한다.\n",
      "19 번째 재귀함수에서 20 번째 재귀함수를 호출한다.\n",
      "20 번째 재귀함수에서 21 번째 재귀함수를 호출한다.\n",
      "21 번째 재귀함수에서 22 번째 재귀함수를 호출한다.\n",
      "22 번째 재귀함수에서 23 번째 재귀함수를 호출한다.\n",
      "23 번째 재귀함수에서 24 번째 재귀함수를 호출한다.\n",
      "24 번째 재귀함수에서 25 번째 재귀함수를 호출한다.\n",
      "25 번째 재귀함수에서 26 번째 재귀함수를 호출한다.\n",
      "26 번째 재귀함수에서 27 번째 재귀함수를 호출한다.\n",
      "27 번째 재귀함수에서 28 번째 재귀함수를 호출한다.\n",
      "28 번째 재귀함수에서 29 번째 재귀함수를 호출한다.\n",
      "29 번째 재귀함수에서 30 번째 재귀함수를 호출한다.\n",
      "30 번째 재귀함수에서 31 번째 재귀함수를 호출한다.\n",
      "31 번째 재귀함수에서 32 번째 재귀함수를 호출한다.\n",
      "32 번째 재귀함수에서 33 번째 재귀함수를 호출한다.\n",
      "33 번째 재귀함수에서 34 번째 재귀함수를 호출한다.\n",
      "34 번째 재귀함수에서 35 번째 재귀함수를 호출한다.\n",
      "35 번째 재귀함수에서 36 번째 재귀함수를 호출한다.\n",
      "36 번째 재귀함수에서 37 번째 재귀함수를 호출한다.\n",
      "37 번째 재귀함수에서 38 번째 재귀함수를 호출한다.\n",
      "38 번째 재귀함수에서 39 번째 재귀함수를 호출한다.\n",
      "39 번째 재귀함수에서 40 번째 재귀함수를 호출한다.\n",
      "40 번째 재귀함수에서 41 번째 재귀함수를 호출한다.\n",
      "41 번째 재귀함수에서 42 번째 재귀함수를 호출한다.\n",
      "42 번째 재귀함수에서 43 번째 재귀함수를 호출한다.\n",
      "43 번째 재귀함수에서 44 번째 재귀함수를 호출한다.\n",
      "44 번째 재귀함수에서 45 번째 재귀함수를 호출한다.\n",
      "45 번째 재귀함수에서 46 번째 재귀함수를 호출한다.\n",
      "46 번째 재귀함수에서 47 번째 재귀함수를 호출한다.\n",
      "47 번째 재귀함수에서 48 번째 재귀함수를 호출한다.\n",
      "48 번째 재귀함수에서 49 번째 재귀함수를 호출한다.\n",
      "49 번째 재귀함수에서 50 번째 재귀함수를 호출한다.\n",
      "50 번째 재귀함수에서 51 번째 재귀함수를 호출한다.\n",
      "51 번째 재귀함수에서 52 번째 재귀함수를 호출한다.\n",
      "52 번째 재귀함수에서 53 번째 재귀함수를 호출한다.\n",
      "53 번째 재귀함수에서 54 번째 재귀함수를 호출한다.\n",
      "54 번째 재귀함수에서 55 번째 재귀함수를 호출한다.\n",
      "55 번째 재귀함수에서 56 번째 재귀함수를 호출한다.\n",
      "56 번째 재귀함수에서 57 번째 재귀함수를 호출한다.\n",
      "57 번째 재귀함수에서 58 번째 재귀함수를 호출한다.\n",
      "58 번째 재귀함수에서 59 번째 재귀함수를 호출한다.\n",
      "59 번째 재귀함수에서 60 번째 재귀함수를 호출한다.\n",
      "60 번째 재귀함수에서 61 번째 재귀함수를 호출한다.\n",
      "61 번째 재귀함수에서 62 번째 재귀함수를 호출한다.\n",
      "62 번째 재귀함수에서 63 번째 재귀함수를 호출한다.\n",
      "63 번째 재귀함수에서 64 번째 재귀함수를 호출한다.\n",
      "64 번째 재귀함수에서 65 번째 재귀함수를 호출한다.\n",
      "65 번째 재귀함수에서 66 번째 재귀함수를 호출한다.\n",
      "66 번째 재귀함수에서 67 번째 재귀함수를 호출한다.\n",
      "67 번째 재귀함수에서 68 번째 재귀함수를 호출한다.\n",
      "68 번째 재귀함수에서 69 번째 재귀함수를 호출한다.\n",
      "69 번째 재귀함수에서 70 번째 재귀함수를 호출한다.\n",
      "70 번째 재귀함수에서 71 번째 재귀함수를 호출한다.\n",
      "71 번째 재귀함수에서 72 번째 재귀함수를 호출한다.\n",
      "72 번째 재귀함수에서 73 번째 재귀함수를 호출한다.\n",
      "73 번째 재귀함수에서 74 번째 재귀함수를 호출한다.\n",
      "74 번째 재귀함수에서 75 번째 재귀함수를 호출한다.\n",
      "75 번째 재귀함수에서 76 번째 재귀함수를 호출한다.\n",
      "76 번째 재귀함수에서 77 번째 재귀함수를 호출한다.\n",
      "77 번째 재귀함수에서 78 번째 재귀함수를 호출한다.\n",
      "78 번째 재귀함수에서 79 번째 재귀함수를 호출한다.\n",
      "79 번째 재귀함수에서 80 번째 재귀함수를 호출한다.\n",
      "80 번째 재귀함수에서 81 번째 재귀함수를 호출한다.\n",
      "81 번째 재귀함수에서 82 번째 재귀함수를 호출한다.\n",
      "82 번째 재귀함수에서 83 번째 재귀함수를 호출한다.\n",
      "83 번째 재귀함수에서 84 번째 재귀함수를 호출한다.\n",
      "84 번째 재귀함수에서 85 번째 재귀함수를 호출한다.\n",
      "85 번째 재귀함수에서 86 번째 재귀함수를 호출한다.\n",
      "86 번째 재귀함수에서 87 번째 재귀함수를 호출한다.\n",
      "87 번째 재귀함수에서 88 번째 재귀함수를 호출한다.\n",
      "88 번째 재귀함수에서 89 번째 재귀함수를 호출한다.\n",
      "89 번째 재귀함수에서 90 번째 재귀함수를 호출한다.\n",
      "90 번째 재귀함수에서 91 번째 재귀함수를 호출한다.\n",
      "91 번째 재귀함수에서 92 번째 재귀함수를 호출한다.\n",
      "92 번째 재귀함수에서 93 번째 재귀함수를 호출한다.\n",
      "93 번째 재귀함수에서 94 번째 재귀함수를 호출한다.\n",
      "94 번째 재귀함수에서 95 번째 재귀함수를 호출한다.\n",
      "95 번째 재귀함수에서 96 번째 재귀함수를 호출한다.\n",
      "96 번째 재귀함수에서 97 번째 재귀함수를 호출한다.\n",
      "97 번째 재귀함수에서 98 번째 재귀함수를 호출한다.\n",
      "98 번째 재귀함수에서 99 번째 재귀함수를 호출한다.\n",
      "99 번째 재귀함수에서 100 번째 재귀함수를 호출한다.\n",
      "99 번째 재귀함수를 종료합니다. \n",
      "98 번째 재귀함수를 종료합니다. \n",
      "97 번째 재귀함수를 종료합니다. \n",
      "96 번째 재귀함수를 종료합니다. \n",
      "95 번째 재귀함수를 종료합니다. \n",
      "94 번째 재귀함수를 종료합니다. \n",
      "93 번째 재귀함수를 종료합니다. \n",
      "92 번째 재귀함수를 종료합니다. \n",
      "91 번째 재귀함수를 종료합니다. \n",
      "90 번째 재귀함수를 종료합니다. \n",
      "89 번째 재귀함수를 종료합니다. \n",
      "88 번째 재귀함수를 종료합니다. \n",
      "87 번째 재귀함수를 종료합니다. \n",
      "86 번째 재귀함수를 종료합니다. \n",
      "85 번째 재귀함수를 종료합니다. \n",
      "84 번째 재귀함수를 종료합니다. \n",
      "83 번째 재귀함수를 종료합니다. \n",
      "82 번째 재귀함수를 종료합니다. \n",
      "81 번째 재귀함수를 종료합니다. \n",
      "80 번째 재귀함수를 종료합니다. \n",
      "79 번째 재귀함수를 종료합니다. \n",
      "78 번째 재귀함수를 종료합니다. \n",
      "77 번째 재귀함수를 종료합니다. \n",
      "76 번째 재귀함수를 종료합니다. \n",
      "75 번째 재귀함수를 종료합니다. \n",
      "74 번째 재귀함수를 종료합니다. \n",
      "73 번째 재귀함수를 종료합니다. \n",
      "72 번째 재귀함수를 종료합니다. \n",
      "71 번째 재귀함수를 종료합니다. \n",
      "70 번째 재귀함수를 종료합니다. \n",
      "69 번째 재귀함수를 종료합니다. \n",
      "68 번째 재귀함수를 종료합니다. \n",
      "67 번째 재귀함수를 종료합니다. \n",
      "66 번째 재귀함수를 종료합니다. \n",
      "65 번째 재귀함수를 종료합니다. \n",
      "64 번째 재귀함수를 종료합니다. \n",
      "63 번째 재귀함수를 종료합니다. \n",
      "62 번째 재귀함수를 종료합니다. \n",
      "61 번째 재귀함수를 종료합니다. \n",
      "60 번째 재귀함수를 종료합니다. \n",
      "59 번째 재귀함수를 종료합니다. \n",
      "58 번째 재귀함수를 종료합니다. \n",
      "57 번째 재귀함수를 종료합니다. \n",
      "56 번째 재귀함수를 종료합니다. \n",
      "55 번째 재귀함수를 종료합니다. \n",
      "54 번째 재귀함수를 종료합니다. \n",
      "53 번째 재귀함수를 종료합니다. \n",
      "52 번째 재귀함수를 종료합니다. \n",
      "51 번째 재귀함수를 종료합니다. \n",
      "50 번째 재귀함수를 종료합니다. \n",
      "49 번째 재귀함수를 종료합니다. \n",
      "48 번째 재귀함수를 종료합니다. \n",
      "47 번째 재귀함수를 종료합니다. \n",
      "46 번째 재귀함수를 종료합니다. \n",
      "45 번째 재귀함수를 종료합니다. \n",
      "44 번째 재귀함수를 종료합니다. \n",
      "43 번째 재귀함수를 종료합니다. \n",
      "42 번째 재귀함수를 종료합니다. \n",
      "41 번째 재귀함수를 종료합니다. \n",
      "40 번째 재귀함수를 종료합니다. \n",
      "39 번째 재귀함수를 종료합니다. \n",
      "38 번째 재귀함수를 종료합니다. \n",
      "37 번째 재귀함수를 종료합니다. \n",
      "36 번째 재귀함수를 종료합니다. \n",
      "35 번째 재귀함수를 종료합니다. \n",
      "34 번째 재귀함수를 종료합니다. \n",
      "33 번째 재귀함수를 종료합니다. \n",
      "32 번째 재귀함수를 종료합니다. \n",
      "31 번째 재귀함수를 종료합니다. \n",
      "30 번째 재귀함수를 종료합니다. \n",
      "29 번째 재귀함수를 종료합니다. \n",
      "28 번째 재귀함수를 종료합니다. \n",
      "27 번째 재귀함수를 종료합니다. \n",
      "26 번째 재귀함수를 종료합니다. \n",
      "25 번째 재귀함수를 종료합니다. \n",
      "24 번째 재귀함수를 종료합니다. \n",
      "23 번째 재귀함수를 종료합니다. \n",
      "22 번째 재귀함수를 종료합니다. \n",
      "21 번째 재귀함수를 종료합니다. \n",
      "20 번째 재귀함수를 종료합니다. \n",
      "19 번째 재귀함수를 종료합니다. \n",
      "18 번째 재귀함수를 종료합니다. \n",
      "17 번째 재귀함수를 종료합니다. \n",
      "16 번째 재귀함수를 종료합니다. \n",
      "15 번째 재귀함수를 종료합니다. \n",
      "14 번째 재귀함수를 종료합니다. \n",
      "13 번째 재귀함수를 종료합니다. \n",
      "12 번째 재귀함수를 종료합니다. \n",
      "11 번째 재귀함수를 종료합니다. \n",
      "10 번째 재귀함수를 종료합니다. \n",
      "9 번째 재귀함수를 종료합니다. \n",
      "8 번째 재귀함수를 종료합니다. \n",
      "7 번째 재귀함수를 종료합니다. \n",
      "6 번째 재귀함수를 종료합니다. \n",
      "5 번째 재귀함수를 종료합니다. \n",
      "4 번째 재귀함수를 종료합니다. \n",
      "3 번째 재귀함수를 종료합니다. \n",
      "2 번째 재귀함수를 종료합니다. \n",
      "1 번째 재귀함수를 종료합니다. \n"
     ]
    }
   ],
   "source": [
    "def recursive_function(i):\n",
    "    # 100번째 호출을 했을 때 종료되도록 종료 조건 명시\n",
    "    if i == 100:\n",
    "        return\n",
    "    print(i, '번째 재귀함수에서',i+1, '번째 재귀함수를 호출한다.')\n",
    "    recursive_function(i + 1)\n",
    "    print(i, '번째 재귀함수를 종료합니다. ')\n",
    "\n",
    "recursive_function(1)"
   ]
  },
  {
   "cell_type": "markdown",
   "metadata": {},
   "source": [
    "## 팩토리얼 구현 예제\n",
    "- n! = 1 x 2 x 3 x ... x (n-1) x n\n",
    "- 수학적으로 0! 과 1!의 값은 1입니다."
   ]
  },
  {
   "cell_type": "code",
   "execution_count": 6,
   "metadata": {},
   "outputs": [],
   "source": [
    "# 반복적으로 구현한 n!\n",
    "def factorial_iterative(n):\n",
    "    result = 1\n",
    "    # 1부터 n까지의 수를 차례대로 곱하기\n",
    "    for i in range(1, n+1):\n",
    "        result *= i\n",
    "    return result"
   ]
  },
  {
   "cell_type": "code",
   "execution_count": 11,
   "metadata": {},
   "outputs": [
    {
     "name": "stdout",
     "output_type": "stream",
     "text": [
      "반복적으로 구현: 120\n",
      "재귀적으로 구현: 120\n"
     ]
    }
   ],
   "source": [
    "# 재귀적으로 구현한 n!\n",
    "def factorial_recursive(n):\n",
    "    if n <= 1:\n",
    "        return 1\n",
    "    return n * factorial_recursive(n - 1)\n",
    "\n",
    "print('반복적으로 구현:', factorial_iterative(5))\n",
    "print('재귀적으로 구현:', factorial_recursive(5))"
   ]
  },
  {
   "cell_type": "markdown",
   "metadata": {},
   "source": [
    "재귀적 구현방법이 시간복잡도에서 나은 성능이다. "
   ]
  },
  {
   "cell_type": "markdown",
   "metadata": {},
   "source": [
    "<img src=\"./images/coma_26.png\" width=\"70%\" height=\"70%\"></img>"
   ]
  },
  {
   "cell_type": "markdown",
   "metadata": {},
   "source": [
    "## 유클리드 호제법\n",
    "- 두 자연수 A, B에 대하여 (A > B) A를 B로 나눈 나머지를 R이라고 하자.\n",
    "- 이때 A와 B의 최대공약수는 B와 R의 최대공약수와 같다."
   ]
  },
  {
   "cell_type": "code",
   "execution_count": 12,
   "metadata": {},
   "outputs": [
    {
     "name": "stdout",
     "output_type": "stream",
     "text": [
      "6\n"
     ]
    }
   ],
   "source": [
    "# 유클리드 호제법 구현 예제\n",
    "def gcd(a, b):\n",
    "    if a % b == 0:\n",
    "        return b\n",
    "    else:\n",
    "        return gcd(b, a % b)\n",
    "    \n",
    "print(gcd(192, 162))"
   ]
  },
  {
   "cell_type": "markdown",
   "metadata": {},
   "source": [
    "### 재귀 함수 사용의 유의 사항\n",
    "- 재귀 함수를 잘 활용하면 복잡한 알고리즘을 간결하게 작성할 수 있다. \n",
    "    + 단, 오히려 다른 사람이 이해하기 어려운 형태의 코드가 될 수도 있으므로 신중하게 사용해야한다. \n",
    "- 모든 재귀 함수는 반복문을 이용하여 동일한 기능을 구현할 수 있다. \n",
    "- 재귀 함수는 반복문보다 유리한 경우도 있고 불리한 경우도 있다. \n",
    "- 컴퓨터가 함수를 연속적으로 호출하면 컴퓨터 메모리 내부의 스택 프레임에 쌓인다. \n",
    "    + 그래서 스택을 사용해야 할 때 구현상 스택 라이브러리 대신에 재귀 함수를 이용하는 경우가 많다. "
   ]
  },
  {
   "cell_type": "markdown",
   "metadata": {},
   "source": [
    "## DFS (Depth-First Search)\n",
    "- DFS는 깊이 우선 탐색이라고도 부르며 그래프에서 깊은 부분을 우선적으로 탐색하는 알고리즘이다.\n",
    "- DFS는 스택 자료구조(혹은 재귀 함수)를 이용하며, 구체적인 동작과정은 다음과 같다. \n",
    "1. 탐색 시작 노드를 스택에 삽입하고 방문처리를 하다. \n",
    "2. 스택의 최상단 노드에 방문하지 않은 인접한 노드가 하나라도 있으면 그 노드를 스택에 넣고 방문처리한다. 방문하지 않은 인접노드가 없으면 스택에서 최상단 노드를 꺼낸다. \n",
    "3. 더 이상 2번의 과정을 수행할 수 없을 때까지 반복한다. \n",
    "\n",
    "<img src=\"./images/coma_27.png\"  width=\"70%\" height=\"70%\"></img> \n",
    "<img src=\"./images/coma_28.png\"  width=\"70%\" height=\"70%\"></img>\n",
    "<img src=\"./images/coma_29.png\"  width=\"70%\" height=\"70%\"></img>\n",
    "<img src=\"./images/coma_30.png\"  width=\"70%\" height=\"70%\"></img>\n",
    "<img src=\"./images/coma_31.png\"  width=\"70%\" height=\"70%\"></img>\n",
    "<img src=\"./images/coma_32.png\"  width=\"70%\" height=\"70%\"></img>\n",
    "<img src=\"./images/coma_33.png\"  width=\"70%\" height=\"70%\"></img>\n",
    "<img src=\"./images/coma_34.png\"  width=\"70%\" height=\"70%\"></img>"
   ]
  },
  {
   "cell_type": "code",
   "execution_count": 13,
   "metadata": {},
   "outputs": [],
   "source": [
    "# DFS 메서드 정의 \n",
    "def dfs(graph, v, visited):\n",
    "    # 현재 노드를 방문처리\n",
    "    visited[v] = True \n",
    "    print(v, end=' ')\n",
    "    # 현재노드와 연결된 다른 노드를 재귀적으로 방문\n",
    "    for i in graph[v]:\n",
    "        if not visited[i]:\n",
    "            dfs(graph, i, visited)\n",
    "    "
   ]
  },
  {
   "cell_type": "code",
   "execution_count": 18,
   "metadata": {},
   "outputs": [
    {
     "name": "stdout",
     "output_type": "stream",
     "text": [
      "<class 'list'>\n",
      "1 2 7 6 8 3 4 5 "
     ]
    }
   ],
   "source": [
    "# 각 노드가 연결된 정보를 표현 (2차원 리스트)\n",
    "graph = [\n",
    "    [],\n",
    "    [2, 3, 8],\n",
    "    [1,7],\n",
    "    [1,4,5],\n",
    "    [3,5],\n",
    "    [3,4],\n",
    "    [7],\n",
    "    [2,6,8],\n",
    "    [1,7]\n",
    "]\n",
    "# 각 노드가 방문된 정보를 표현 (1차원 리스트)\n",
    "visited = [False]* 9\n",
    "print(type(visited))\n",
    "\n",
    "# 정의된 DFS 함수 호출 \n",
    "dfs(graph, 1, visited)"
   ]
  },
  {
   "cell_type": "markdown",
   "metadata": {},
   "source": [
    "## BFS (Breadth-First Search)\n",
    "- BFS는 너비 우선 탐색이라고도 부르며, 그래프에서 가까운 노드부터 우선적으로 탐색하는 알고리즘이다. \n",
    "- BFS는 큐 자료구조를 이요하며, 구체적인 동작 과정은 다음과 같다. \n",
    "    1. 탐색 시작 노드를 큐에 삽입하고 방문 처리를 한다. \n",
    "    2. 큐에서 노드를 꺼낸 뒤에 해당 노드의 인접 노드 중에서 방문하지 않은 노드를 모두 큐에 삽입하고 방문 처리 한다. \n",
    "    3. 더 이상 2번의 과정을 수행할 수 없을 때까지 반복한다.   \n",
    "- BFS는 재귀로 풀 수 없다.     "
   ]
  },
  {
   "cell_type": "markdown",
   "metadata": {},
   "source": [
    "<img src=\"./images/coma_35.png\" width=\"70%\" height=\"70%\"></img> \n",
    "<img src=\"./images/coma_36.png\" width=\"70%\" height=\"70%\"></img>\n",
    "<img src=\"./images/coma_37.png\" width=\"70%\" height=\"70%\"></img>\n",
    "<img src=\"./images/coma_38.png\" width=\"70%\" height=\"70%\"></img>\n",
    "<img src=\"./images/coma_39.png\" width=\"70%\" height=\"70%\"></img>\n",
    "<img src=\"./images/coma_40.png\" width=\"70%\" height=\"70%\"></img>\n",
    "<img src=\"./images/coma_41.png\" width=\"70%\" height=\"70%\"></img>"
   ]
  },
  {
   "cell_type": "code",
   "execution_count": 27,
   "metadata": {},
   "outputs": [],
   "source": [
    "# BFS 구현 예제\n",
    "from collections import deque\n",
    "# BFS 메서드 구현\n",
    "def bfs(graph, start, visited):\n",
    "    # 큐(Queue) 구현을 위해 deque 라이브러리 사용\n",
    "    queue = deque([start])\n",
    "    # 현재 노드를 방문 처리\n",
    "    visited[start] = True\n",
    "    # 큐가 빌 때까지 반복\n",
    "    while queue:\n",
    "        # 큐에서 하나의 원소를 뽑아 출력하기\n",
    "        v = queue.popleft()\n",
    "        print(v, end=' ')\n",
    "        # 아직 방문하지 않은 인접한 원소들을 큐에 삽입\n",
    "        for i in graph[v]:\n",
    "            if not visited[i]:\n",
    "                queue.append(i)\n",
    "                visited[i] = True"
   ]
  },
  {
   "cell_type": "code",
   "execution_count": null,
   "metadata": {},
   "outputs": [],
   "source": [
    "# 각 노드가 연결된 정보를 표현 (2차원 리스트)\n",
    "graph = [\n",
    "    [],\n",
    "    [2, 3, 8],\n",
    "    [1,7],\n",
    "    [1,4,5],\n",
    "    [3,5],\n",
    "    [3,4],\n",
    "    [7],\n",
    "    [2,6,8],\n",
    "    [1,7]\n",
    "]\n",
    "# 각 노드가 방문된 정보를 표현 (1차원 리스트)\n",
    "visited = [False]* 9\n",
    "\n",
    "# 정의된 DFS 함수 호출 \n",
    "bfs(graph, 1, visited)"
   ]
  },
  {
   "cell_type": "code",
   "execution_count": 23,
   "metadata": {},
   "outputs": [
    {
     "name": "stdout",
     "output_type": "stream",
     "text": [
      "deque([])\n",
      "[2, 3, 8]\n"
     ]
    }
   ],
   "source": [
    "visited = [False]* 9\n",
    "queue = deque([1])\n",
    "visited[1] = True\n",
    "v = queue.popleft()\n",
    "print(queue)\n",
    "print( graph[v])"
   ]
  },
  {
   "cell_type": "markdown",
   "metadata": {},
   "source": [
    "<img src=\"./images/coma_42.png\"  width=\"70%\" height=\"70%\"></img>\n",
    "<img src=\"./images/coma_43.png\"  width=\"70%\" height=\"70%\"></img>"
   ]
  },
  {
   "cell_type": "markdown",
   "metadata": {},
   "source": [
    "<img src=\"./images/coma_44.png\"  width=\"70%\" height=\"70%\"></img>\n",
    "<img src=\"./images/coma_45.png\" width=\"70%\" height=\"70%\"></img>"
   ]
  },
  {
   "cell_type": "code",
   "execution_count": 30,
   "metadata": {},
   "outputs": [
    {
     "name": "stdout",
     "output_type": "stream",
     "text": [
      "4 5\n",
      "00110\n",
      "00011\n",
      "11111\n",
      "00000\n",
      "3\n"
     ]
    }
   ],
   "source": [
    "# DFS로 특정 노드를 방문하고 연결된 모든 노드들도 방문\n",
    "def dfs(x,y):\n",
    "    # 주어진 범위를 벗어나는 경우에는 즉시 종료\n",
    "    if x <= -1 or x >= n or y <= -1 or y>=m : \n",
    "        return False\n",
    "    # 현재 노드를 아직 방문하지 않았다면\n",
    "    if graph[x][y] == 0:\n",
    "        # 해당 노드 방문처리\n",
    "        graph[x][y] = 1\n",
    "        # 상, 하, 좌, 우의 위치들도 모두 재귀적으로 호출\n",
    "        dfs(x - 1, y)\n",
    "        dfs(x, y - 1)\n",
    "        dfs(x + 1, y)\n",
    "        dfs(x, y + 1)\n",
    "        return True\n",
    "    return False\n",
    "\n",
    "\n",
    "n, m = map(int, input().split())\n",
    "\n",
    "graph = []\n",
    "for i in range(n):\n",
    "    graph.append(list(map(int, input())))\n",
    "\n",
    "result = 0\n",
    "for i in range(n):\n",
    "    for j in range(m):\n",
    "        if dfs(i, j) == True:\n",
    "            result += 1\n",
    "            \n",
    "print(result)            "
   ]
  },
  {
   "cell_type": "code",
   "execution_count": 31,
   "metadata": {
    "scrolled": true
   },
   "outputs": [
    {
     "data": {
      "text/plain": [
       "[[1, 1, 1, 1, 1], [1, 1, 1, 1, 1], [1, 1, 1, 1, 1], [1, 1, 1, 1, 1]]"
      ]
     },
     "execution_count": 31,
     "metadata": {},
     "output_type": "execute_result"
    }
   ],
   "source": [
    "graph"
   ]
  },
  {
   "cell_type": "markdown",
   "metadata": {},
   "source": [
    "<img src=\"./images/coma_46.png\"  width=\"70%\" height=\"70%\"></img>\n",
    "<img src=\"./images/coma_47.png\"  width=\"70%\" height=\"70%\"></img>"
   ]
  },
  {
   "cell_type": "code",
   "execution_count": null,
   "metadata": {},
   "outputs": [],
   "source": [
    "def dfs(x, y):\n",
    "    if x < -1 or x >= n or y < -1 or y >= n:\n",
    "        return False\n",
    "    if graph[x][y] == 1:\n",
    "        graph[x][y] = 0\n",
    "        dfs(x - 1, y) # 상\n",
    "        dfs(x, y - 1) # 하 \n",
    "        dfs(x + 1, y) # 좌\n",
    "        dfs(x, y + 1) # 우 \n",
    "        return True\n",
    "    return False        "
   ]
  },
  {
   "cell_type": "code",
   "execution_count": null,
   "metadata": {},
   "outputs": [],
   "source": [
    "n, m = map(int, input().split)\n",
    "\n",
    "graph = []\n",
    "for i in range(n):\n",
    "    graph.append(list(map(int, input())))\n",
    "    \n",
    "result = 0\n",
    "for i in range(n):\n",
    "    for j in range(m):\n",
    "        if dfs(i, j) == True:\n",
    "            result += 1\n",
    "            \n",
    "print(result)"
   ]
  },
  {
   "cell_type": "markdown",
   "metadata": {},
   "source": [
    "<img src=\"./images/coma_48.png\"  width=\"70%\" height=\"70%\"></img>\n",
    "<img src=\"./images/coma_49.png\"  width=\"70%\" height=\"70%\"></img>\n",
    "<img src=\"./images/coma_50.png\"  width=\"70%\" height=\"70%\"></img>\n",
    "<img src=\"./images/coma_51.png\"  width=\"70%\" height=\"70%\"></img>"
   ]
  },
  {
   "cell_type": "code",
   "execution_count": 34,
   "metadata": {},
   "outputs": [
    {
     "name": "stdout",
     "output_type": "stream",
     "text": [
      "5 6\n",
      "101010\n",
      "111111\n",
      "000001\n",
      "111111\n",
      "111111\n",
      "10\n"
     ]
    }
   ],
   "source": [
    "# BFS 소스코드 구현\n",
    "def bfs(x, y):\n",
    "    # 큐(Queue) 규현을 위해 deque 라이브러리 사용\n",
    "    queue = deque()\n",
    "    queue.append((x,y))\n",
    "    # 큐가 빌 때까지 반복하기\n",
    "    while queue:\n",
    "        x, y = queue.popleft()\n",
    "        # 현재 위치에서 4가지 방향으로 위치 확인\n",
    "        for i in range(4):\n",
    "            nx = x + dx[i]\n",
    "            ny = y + dy[i]\n",
    "            # 미로 찾기 공간을 벗어난 경우 무시\n",
    "            if nx < 0 or nx >= n or ny < 0 or ny >= m:\n",
    "                continue\n",
    "            # 벽인 경우 무시\n",
    "            if graph[nx][ny] == 0:\n",
    "                continue\n",
    "            # 해당 노드를 처음 방문하는 경우에만 최단 거리 기록\n",
    "            if graph[nx][ny] == 1:\n",
    "                graph[nx][ny] = graph[x][y]+1\n",
    "                queue.append((nx, ny))\n",
    "    # 가장 오른쪽 아래까지의 최단 거리 반환\n",
    "    return graph[n-1][m-1]\n",
    "\n",
    "           \n",
    "from collections import deque\n",
    "\n",
    "# N,M을 공백을 기준으로 구분하여 입력 받기\n",
    "n, m = map(int, input().split())\n",
    "# 2차원 리스트의 맵 정보 입력 받기\n",
    "graph = []\n",
    "for i in range(n):\n",
    "    graph.append(list(map(int, input())))\n",
    "\n",
    "# 이동할 네 가지 방향 정의 (상, 하, 좌, 우)\n",
    "dx = [-1, 1, 0, 0]\n",
    "dy = [0, 0, -1, 1]\n",
    "\n",
    "# BFS를 수행한 결과 출력\n",
    "print(bfs(0,0))"
   ]
  }
 ],
 "metadata": {
  "kernelspec": {
   "display_name": "Python 3",
   "language": "python",
   "name": "python3"
  },
  "language_info": {
   "codemirror_mode": {
    "name": "ipython",
    "version": 3
   },
   "file_extension": ".py",
   "mimetype": "text/x-python",
   "name": "python",
   "nbconvert_exporter": "python",
   "pygments_lexer": "ipython3",
   "version": "3.7.9"
  }
 },
 "nbformat": 4,
 "nbformat_minor": 4
}
