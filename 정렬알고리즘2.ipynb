{
 "cells": [
  {
   "cell_type": "markdown",
   "metadata": {},
   "source": [
    "## 정렬\n",
    "- 데이터를 특정한 기준에 따라 순서대로 나열하는 것\n",
    "- 일반적으로 문제 상황에 따라서 적절한 정렬 알고리즘이 공식처럼 사용"
   ]
  },
  {
   "cell_type": "markdown",
   "metadata": {},
   "source": [
    "## 선택 정렬\n",
    "- 처리되지 않은 데이터 중에서 가장 작은 데이터를 선택해 맨 앞에 있는 데이터와 바꾸는 것을 반복한다. "
   ]
  },
  {
   "cell_type": "code",
   "execution_count": 1,
   "metadata": {},
   "outputs": [
    {
     "name": "stdout",
     "output_type": "stream",
     "text": [
      "[0, 1, 2, 3, 4, 5, 6, 7, 8, 9]\n"
     ]
    }
   ],
   "source": [
    "array = [7,5,9,0,3,1,6,2,4,8]\n",
    "\n",
    "for i in range(len(array)):\n",
    "    min_index = i # 가장 작은 원소의 인덱스\n",
    "    for j in range(i + 1, len(array)):\n",
    "        if array[min_index] > array[j]:\n",
    "            min_index = j\n",
    "    array[i], array[min_index] = array[min_index], array[i] # 스와프\n",
    "    \n",
    "print(array)"
   ]
  },
  {
   "cell_type": "markdown",
   "metadata": {},
   "source": [
    "### 선택 정렬의 시간 복잡도\n",
    "- 선택 정렬은 N번 만큼 가장 작은 수를 찾아서 맨앞으로 보내야 한다. \n",
    "- 구현 방식에 따라서 사소한 오차는 있을 수 있지만, 전체 연산 횟수는 다음과 같다. \n",
    "$$ N + (N-1) + (N-2) + ... + 2$$\n",
    "- 이는 $(N^2+N-2)\\over 2$로 표현할 수 있는데, 빅오 표기법에 따라서 $O(N^2)$라고 작성한다. "
   ]
  },
  {
   "cell_type": "markdown",
   "metadata": {},
   "source": [
    "## 삽입 정렬\n",
    "- 처리되지 않은 데이터를 하나씩 골라 적절한 위치에 삽입한다. \n",
    "- 선택 정렬에 비해 구현 난이도가 높은 편이고, 일반적으로 더 효율적으로 동작한다. "
   ]
  },
  {
   "cell_type": "code",
   "execution_count": 3,
   "metadata": {},
   "outputs": [
    {
     "name": "stdout",
     "output_type": "stream",
     "text": [
      "[0, 1, 2, 3, 4, 5, 6, 7, 8, 9]\n"
     ]
    }
   ],
   "source": [
    "array = [7,5,9,0,3,1,6,2,4,8]\n",
    "\n",
    "for i in range(1, len(array)):\n",
    "    for j in range(i, 0, -1): # 인덱스 i 부터 1까지 1씩 감소하여 반복하는 문법\n",
    "        if array[j] < array[j -1]: # 한 칸씩 왼쪽으로 이동\n",
    "            array[j], array[j - 1] = array[j - 1], array[j]\n",
    "        else: # 자기보다 작은 데이터를 만나면 그 위치에서 멈춤\n",
    "            break\n",
    "\n",
    "print(array)            "
   ]
  },
  {
   "cell_type": "markdown",
   "metadata": {},
   "source": [
    "### 삽입 정렬의 시간 복잡도\n",
    "- 삽입 정렬의 시간 복잡도는 $O(N^2)$이며, 선택 정렬과 마찬가지로 반복문이 두 번 중첩되어 사용된다. \n",
    "- 삽입 정렬은 현재 리스트이 데이터가 거의 정렬되어 있는 상태라면 매우 빠르게 동작한다. \n",
    "    + 최선의 경우 O(N)의 시간 복잡도를 가진다. \n",
    "    + 이미 정렬되어 있는 상태에서 다시 삽입 정렬을 수행하면 어떻게 될까? \n",
    "    "
   ]
  },
  {
   "cell_type": "markdown",
   "metadata": {},
   "source": [
    "## 퀵 정렬\n",
    "- 기준 데이터를 설정하고 그 기준보다 큰 데이터와 작은 데이터의 위치를 바꾸는 방법\n",
    "- 일반적인 상황에서 가장 많이 사용되는 정렬 알고리즘 중 하나이다.\n",
    "- 병렬 정렬과 더불어 대부분의 프로그래밍 언어의 정렬 라이브러리의 근간이 되는 알고리즘이다. \n",
    "- 가장 기본적인 퀵 정렬은 첫 번째 데이터를 기준 데이터(Pivot)로 설정한다. \n",
    "<img src=\"./images/coma_52.png\" width=\"70%\" height=\"70%\" align=\"left\"></img>\n",
    "<img src=\"./images/coma_53.png\" width=\"70%\" height=\"70%\" align=\"left\"></img>\n",
    "<img src=\"./images/coma_54.png\" width=\"70%\" height=\"70%\" align=\"left\"></img>\n",
    "<img src=\"./images/coma_55.png\" width=\"70%\" height=\"70%\" align=\"left\"></img>\n",
    "<img src=\"./images/coma_56.png\" width=\"70%\" height=\"70%\" align=\"left\"></img>\n",
    "<img src=\"./images/coma_57.png\" width=\"70%\" height=\"70%\" align=\"left\"></img> "
   ]
  },
  {
   "cell_type": "markdown",
   "metadata": {},
   "source": [
    "### 퀵 정렬의 시간 복잡도  \n",
    "<img src=\"./images/coma_58.png\" width=\"70%\" height=\"70%\" align=\"left\"></img>  \n",
    "- 퀵 정렬은 평균의 경우 $O(NlogN)$의 시간 복잡도를 가진다. \n",
    "- 하지만 최악의 경우 $O(N^2)$의 시간 복잡도를 가진다. \n",
    "    + 첫 번째 원소를 피벗으로 삼을 때, 이미 정렬된 배열에 대해서 퀵 정렬을 수행하면 어떻게 될까? 쓸데없는 선형 탐색을 한다. "
   ]
  },
  {
   "cell_type": "code",
   "execution_count": 6,
   "metadata": {},
   "outputs": [
    {
     "name": "stdout",
     "output_type": "stream",
     "text": [
      "[0, 1, 2, 3, 4, 5, 6, 7, 8, 9]\n"
     ]
    }
   ],
   "source": [
    "# 퀵 정렬 소스코드\n",
    "array = [5,7,9,0,3,1,6,2,4,8]\n",
    "\n",
    "def quick_sort(array, start, end):\n",
    "    if start >= end: # 원소가 1개인 경우 종료\n",
    "        return\n",
    "    pivot = start # 피벗은 첫 번째 원소\n",
    "    left = start + 1\n",
    "    right = end\n",
    "    while(left <= right):\n",
    "        # 피벗보다 큰 데이터를 찾을 때까지 반복\n",
    "        while(left <= end and array[left] <= array[pivot]):\n",
    "            left += 1\n",
    "        # 피벗보다 작은 데이터를 찾을 때까지 반복\n",
    "        while(right > start and array[right] >= array[pivot]):\n",
    "            right -= 1\n",
    "        if(left > right): # 엇갈렸다면 작은 데이터와 피벗을 교체\n",
    "            array[right], array[pivot] = array[pivot], array[right]\n",
    "        else: # 엇갈리지 않았다면 작은 데이터와 큰 데이터를 교체\n",
    "            array[left], array[right] = array[right], array[left]\n",
    "    # 분할 이후 왼쪽 부분과 오른쪽 부분에서 각각 정렬 수행 \n",
    "    quick_sort(array, start, right-1)\n",
    "    quick_sort(array, right + 1, end)\n",
    "    \n",
    "quick_sort(array, 0, len(array)-1)\n",
    "print(array)\n",
    "            \n",
    "        "
   ]
  },
  {
   "cell_type": "code",
   "execution_count": 11,
   "metadata": {},
   "outputs": [
    {
     "name": "stdout",
     "output_type": "stream",
     "text": [
      "[0, 1, 2, 3, 4, 5, 6, 7, 8, 9]\n"
     ]
    }
   ],
   "source": [
    "# 퀵 정렬 소스코드 : 파이썬의 장점을 살린 방식\n",
    "array = [5,7,9,0,3,1,6,2,4,8]\n",
    "def quick_sort2(array):\n",
    "    if len(array) <= 1:\n",
    "        return array\n",
    "    pivot = array[0]\n",
    "    tail = array[1:]\n",
    "    \n",
    "    left_side = [x for x in tail if x <= pivot]\n",
    "    right_side = [x for x in tail if x > pivot]\n",
    "    \n",
    "    return quick_sort2(left_side) + [pivot] + quick_sort2(right_side)\n",
    "\n",
    "print(quick_sort2(array))"
   ]
  },
  {
   "cell_type": "markdown",
   "metadata": {},
   "source": [
    "## 계수 정렬\n",
    "- 특정한 조건이 부합할 때만 사용할 수 있지만 매우 빠르게 동작하는 알고리즘\n",
    "    + 계수 정렬은 데이터의 크기 범위가 제한되어 정수 형태로 표현할 수 있을 때 사용 가능하다.\n",
    "- 데이터의 개수가 N, 데이터(양수) 중 최댓값이 K일 때 최악의 경우에도 수행 시간 $O(N+K)$를 보장한다."
   ]
  },
  {
   "cell_type": "code",
   "execution_count": 12,
   "metadata": {},
   "outputs": [
    {
     "name": "stdout",
     "output_type": "stream",
     "text": [
      "0 0 1 1 2 2 3 4 5 5 6 7 8 9 9 "
     ]
    }
   ],
   "source": [
    "# 계수 정렬 소스코드\n",
    "# 모든 원소의 값이 0보다 크거나 같다고 가정\n",
    "array = [7,5,9,0,3,1,6,2,9,1,4,8,0,5,2]\n",
    "# 모든 범위를 포함하는 리스트 선언(모든 값은 0으로 초기화)\n",
    "count = [0] * (max(array)+1)\n",
    "\n",
    "for i in range(len(array)):\n",
    "    count[array[i]] += 1 #각 데이터에 해당하는 인덱스의 값 증가\n",
    "    \n",
    "for i in range(len(count)): # 리스트에 기록된 정렬 정보 확인\n",
    "    for j in range(count[i]):\n",
    "        print(i, end=' ') # 띄어쓰기를 구분으로 등장한 횟수만큼 인덱스 출력"
   ]
  },
  {
   "cell_type": "markdown",
   "metadata": {},
   "source": [
    "### 계수 정렬의 복잡도 분석\n",
    "- 계수 정렬의 시간복잡도와 공간복잡도는 모두 O(N+K)이다.\n",
    "- 계수 정렬은 때에 따라 심각한 비효율성을 초래할 수 있다. \n",
    "    + 데이터가 0과 999,999로 단 2개만 존재하는 경우를 생각해 보자\n",
    "- 계수 정렬은 동일한 값을 가지는 데이터가 여러 개 등장할 때 효과적으로 사용할 수 있다.\n",
    "    + 성적의 경우 100점을 맞은 학생이 여러 명일 수 있기 때문에 계수 정렬이 효과적이다. "
   ]
  },
  {
   "cell_type": "markdown",
   "metadata": {},
   "source": [
    "<img src=\"./images/coma_60.png\" width=\"70%\" height=\"70%\" align=\"left\"></img>  "
   ]
  },
  {
   "cell_type": "markdown",
   "metadata": {},
   "source": [
    "<img src=\"./images/coma_61.png\" width=\"70%\" height=\"70%\" align=\"left\"></img>  \n",
    "<img src=\"./images/coma_62.png\" width=\"70%\" height=\"70%\" align=\"left\"></img>  \n",
    "<img src=\"./images/coma_63.png\" width=\"70%\" height=\"70%\" align=\"left\"></img>  "
   ]
  },
  {
   "cell_type": "code",
   "execution_count": 39,
   "metadata": {},
   "outputs": [],
   "source": [
    "A = [1,2,5,4,3]\n",
    "B = [5,5,6,6,5]\n",
    "K = 3\n",
    "\n"
   ]
  },
  {
   "cell_type": "code",
   "execution_count": 40,
   "metadata": {},
   "outputs": [],
   "source": [
    "A.sort()\n",
    "B.reverse()"
   ]
  },
  {
   "cell_type": "code",
   "execution_count": 31,
   "metadata": {},
   "outputs": [
    {
     "name": "stdout",
     "output_type": "stream",
     "text": [
      "5 3 \n",
      "1 2 5 4 3\n",
      "5 5 6 6 5\n",
      "26\n"
     ]
    }
   ],
   "source": [
    "n, k = map(int, input().split())\n",
    "a = list(map(int, input().split()))\n",
    "b = list(map(int, input().split()))\n",
    "\n",
    "a.sort()\n",
    "b.sort(reverse=True)\n",
    "\n",
    "for i in range(k):\n",
    "    if a[i] < b[i]:\n",
    "        a[i], b[i] = b[i], a[i]\n",
    "    else:\n",
    "        break \n",
    "        \n",
    "print(sum(a))\n"
   ]
  }
 ],
 "metadata": {
  "kernelspec": {
   "display_name": "Python 3",
   "language": "python",
   "name": "python3"
  },
  "language_info": {
   "codemirror_mode": {
    "name": "ipython",
    "version": 3
   },
   "file_extension": ".py",
   "mimetype": "text/x-python",
   "name": "python",
   "nbconvert_exporter": "python",
   "pygments_lexer": "ipython3",
   "version": "3.7.9"
  }
 },
 "nbformat": 4,
 "nbformat_minor": 4
}
