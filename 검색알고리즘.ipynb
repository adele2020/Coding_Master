{
 "cells": [
  {
   "cell_type": "markdown",
   "metadata": {},
   "source": [
    "## 검색 알고리즘\n",
    "데이터 집합에서 원하는 값을 가진 원소를 찾아내는 검색 알고리즘   \n",
    "검색의 종류 : 배열 검색, 연결리스트 검색, 이진 트리 검색"
   ]
  },
  {
   "cell_type": "markdown",
   "metadata": {},
   "source": [
    "## 선형 검색 linear search\n",
    "무작위로 늘어 놓은 데이터 집합에서 검색을 수행한다. \n",
    "직선 모양으로 늘어선 배열에서 검색하는 경우에 원하는 키값을 가진 원소를 찾을 때까지 맨 앞부터 스캔하여 순서대로 검색하는 알고리즘"
   ]
  },
  {
   "cell_type": "code",
   "execution_count": 2,
   "metadata": {},
   "outputs": [],
   "source": [
    "# 선형 검색 알고리즘 \n",
    "from typing import Any, Sequence\n",
    "\n",
    "def seq_search(a: Sequence, key: Any) -> int:\n",
    "    i=0\n",
    "   \n",
    "    # (1)\n",
    "    \"\"\"\n",
    "    while True:\n",
    "        if i == len(a):\n",
    "            return -1\n",
    "        if a[i] == key:\n",
    "            return i\n",
    "        i += 1    \n",
    "    \"\"\"\n",
    "    # (2) \n",
    "    for i in range(len(a)):\n",
    "        if a[i] == key:\n",
    "            return i\n",
    "    return i"
   ]
  },
  {
   "cell_type": "code",
   "execution_count": 6,
   "metadata": {},
   "outputs": [
    {
     "name": "stdout",
     "output_type": "stream",
     "text": [
      "원소 수를 입력하세요.: 5\n",
      "x[0]: 2\n",
      "x[1]: 33\n",
      "x[2]: 4\n",
      "x[3]: 56\n",
      "x[4]: 5\n",
      "검색할 값을 입력하세요. 56\n",
      "검색값은 x[3]에 있습니다.\n"
     ]
    }
   ],
   "source": [
    "# 테스트 \n",
    "if __name__ == '__main__':\n",
    "    num = int(input('원소 수를 입력하세요.: '))\n",
    "    x = [None] * num\n",
    "\n",
    "    for i in range(num):\n",
    "        x[i] = int(input(f'x[{i}]: '))\n",
    "\n",
    "    ky = int(input('검색할 값을 입력하세요. '))\n",
    "\n",
    "    idx = seq_search(x, ky)\n",
    "\n",
    "    if idx == -1:\n",
    "        print('검색값을 갖는 원소가 존재하지 않습니다.')\n",
    "    else:\n",
    "        print(f'검색값은 x[{idx}]에 있습니다.')"
   ]
  },
  {
   "cell_type": "markdown",
   "metadata": {},
   "source": [
    "- 보초법 : 계속 반복하면 종료 조건을 검사하는 비용을 무시할 수 없다. 이 비용을 반으로 줄이는 방법으로 검색하고자 하는 키값을 배열의 맨 끝에 저장한다. "
   ]
  },
  {
   "cell_type": "code",
   "execution_count": 5,
   "metadata": {},
   "outputs": [],
   "source": [
    "import copy\n",
    "\n",
    "def seq_search(seq: Sequence, key: Any) -> int:\n",
    "    a = copy.deepcopy(seq)\n",
    "    a.append(key)\n",
    "\n",
    "    i = 0\n",
    "    while True:\n",
    "        if a[i] == key:\n",
    "            break\n",
    "        i += 1\n",
    "    return -1 if i == len(seq) else i"
   ]
  },
  {
   "cell_type": "markdown",
   "metadata": {},
   "source": [
    "## 이진 검색 Binary Search\n",
    "일정한 규칙으로 늘어놓은 데이터 집합에서 아주 빠른 검색을 수행한다.   \n",
    "값을 찾아내는 시간 복잡도가 $O(logn)$이라는 점에서 대표적인 로그 시간 알고리즘.  \n",
    "이진 트리 탐색 (Binary Searcy Tree) 와도 유사한 점이 많지만 이진 탐색 트리가 정렬된 구조를 저장하고 탐색하는 자료구조라면,  \n",
    "이진 검색은 정렬된 배열에서 값을 찾아내는 알고리즘 자체를 지칭한다.   "
   ]
  },
  {
   "cell_type": "code",
   "execution_count": 7,
   "metadata": {},
   "outputs": [],
   "source": [
    "from typing import Any, Sequence\n",
    "\n",
    "def bin_search(a:Sequence, key:Any) -> int:\n",
    "    pl = 0\n",
    "    pr = len(a) - 1\n",
    "\n",
    "    print('  |', end='')\n",
    "    for i in range(len(a)):\n",
    "        print(f'{i : 4}', end='')\n",
    "    print()\n",
    "    print('---+' + (4 * len(a)+2)*'-')\n",
    "\n",
    "    while True:\n",
    "        pc = (pl + pr) // 2\n",
    "\n",
    "        print('  |', end='')\n",
    "        if pl != pc:\n",
    "            print((pl*4 + 1)*' '+'<-'+((pc-pl)*4)*' '+'+', end='')\n",
    "        else:\n",
    "            print((pc*4+1)*' '+'<+', end='')\n",
    "        if pc != pr:\n",
    "            print(((pr-pc)*4-2)*' '+'->')\n",
    "        else:\n",
    "            print('->')\n",
    "        print(f'{pc:3}|', end='')\n",
    "\n",
    "        for i in range(len(a)):\n",
    "            print(f'{a[i]:4}', end='')\n",
    "        print('\\n   |')\n",
    "\n",
    "        if a[pc] == key:\n",
    "            return pc\n",
    "        elif a[pc] < key:\n",
    "            pl = pc + 1\n",
    "        else:\n",
    "            pr = pc - 1\n",
    "        if pl > pr:\n",
    "            break\n",
    "    return -1"
   ]
  },
  {
   "cell_type": "code",
   "execution_count": 8,
   "metadata": {},
   "outputs": [
    {
     "name": "stdout",
     "output_type": "stream",
     "text": [
      "원소 수를 입력하세요.: 9\n",
      "배열 데이터를 오름차순으로 입력하세요.\n",
      "x[0]: 34\n",
      "x[1]:56\n",
      "x[2]:78\n",
      "x[3]:90\n",
      "x[4]:98\n",
      "x[5]:122\n",
      "x[6]:234\n",
      "x[7]:567\n",
      "x[8]:678\n",
      "검색할 값을 입력하세요.: 900\n",
      "  |   0   1   2   3   4   5   6   7   8\n",
      "---+--------------------------------------\n",
      "  | <-                +              ->\n",
      "  4|  34  56  78  90  98 122 234 567 678\n",
      "   |\n",
      "  |                     <-    +      ->\n",
      "  6|  34  56  78  90  98 122 234 567 678\n",
      "   |\n",
      "  |                             <+  ->\n",
      "  7|  34  56  78  90  98 122 234 567 678\n",
      "   |\n",
      "  |                                 <+->\n",
      "  8|  34  56  78  90  98 122 234 567 678\n",
      "   |\n",
      "검색값을 갖는 원소가 존재하지 않습니다.\n"
     ]
    }
   ],
   "source": [
    "if __name__ == '__main__':\n",
    "    num = int(input('원소 수를 입력하세요.: '))\n",
    "    x = [None] * num\n",
    "\n",
    "    print('배열 데이터를 오름차순으로 입력하세요.')\n",
    "\n",
    "    x[0] = int(input('x[0]: '))\n",
    "\n",
    "    for i in range(1, num):\n",
    "        while True:\n",
    "            x[i] = int(input(f'x[{i}]:'))\n",
    "            if x[i] >= x[i - 1]:\n",
    "                break\n",
    "    ky = int(input('검색할 값을 입력하세요.: '))\n",
    "\n",
    "    idx = bin_search(x, ky)\n",
    "\n",
    "    if idx == -1:\n",
    "        print('검색값을 갖는 원소가 존재하지 않습니다.')\n",
    "    else:\n",
    "        print(f'검색값은 x[{idx}]에 있습니다.')"
   ]
  },
  {
   "cell_type": "markdown",
   "metadata": {},
   "source": [
    "## 해시법 Hasing  \n",
    "\n",
    "'데이터를 저장할 위치 = 인덱스'를 간단한 연산으로 구하는 것  \n",
    "추가.삭제가 자주 일어나는 데이터 집합에서 아주 빠른 검색을 수행한다. \n",
    "\n",
    "저장할 버킷이 중복되는 현상인 충돌 collision이 발생하는 경우 아래의 방법으로 대처할 수 있다. \n",
    "\n",
    "- 체인법 : 같은 해시값 데이터를 연결 리스트로 연결하는 방법\n",
    "- 오픈 주소법 : 데이터를 위한 해시값이 충돌할 때 재해시하는 방법 "
   ]
  },
  {
   "cell_type": "markdown",
   "metadata": {},
   "source": [
    "### 체인법"
   ]
  },
  {
   "cell_type": "code",
   "execution_count": 2,
   "metadata": {},
   "outputs": [],
   "source": [
    "# 노드 클래스 만들기\n",
    "from __future__ import annotations\n",
    "from typing import Any, Type\n",
    "import hashlib\n",
    "\n",
    "# 해시를 구성하는 노드\n",
    "class Node:\n",
    "    \n",
    "    # 초기화\n",
    "    def __init__(self, key: Any, value: Any, next: Node) -> None:\n",
    "        self.key = key\n",
    "        self.value = value\n",
    "        self.next = next"
   ]
  },
  {
   "cell_type": "code",
   "execution_count": 6,
   "metadata": {},
   "outputs": [],
   "source": [
    "# 체인법으로 해시 클래스 구현\n",
    "class ChainedHash:\n",
    "    \n",
    "    # 초기화\n",
    "    def __init__(self, capacity:int) -> None:\n",
    "        self.capacity = capacity\n",
    "        self.table = [None] * self.capacity\n",
    "        #capacity : 해시 테이블의 크기(배열 table의 원소 수)를 나타냄   \n",
    "        #table : 해시 테이블을 저장하는 list형 배열을 나타냄\n",
    "    \n",
    "    # 인수 key에 대응하는 해시값 구하는 함수 \n",
    "    def hash_value(self, key: Any) -> int:\n",
    "        if isinstance(key, int):\n",
    "            return key % self.capacity\n",
    "        return(int(hashlib.sha256(str(key).encode()).hexdigest(),16)%self.capacity)\n",
    "        # sha256 : RSA의 FIPS알고리즘을 바탕으로 바이트(byte)문자열의 해시값을 구하는 해시알고리즘 생성자\n",
    "        # encode() : hashlib.sha256에는 바이트 문자열의 인수를 전달해야하기 때문에 key를 str로 변환한뒤 encode()를 통해 바이트 문자열 생성\n",
    "        # hexdigest() : sha256 알고리즘에서 해시값을 16진수 문자열 꺼내기\n",
    "        # int() : hexdigest() 함수로 꺼낸 문자열을 16진수 문자열을 int 형으로 변환 \n",
    "    \n",
    "    def search(self, key: Any) -> Any:\n",
    "        hash = self.hash_value(key)\n",
    "        p = self.table[hash]\n",
    "\n",
    "        while p is not None:\n",
    "            if p.key == key:\n",
    "                return p.value\n",
    "            p = p.next\n",
    "\n",
    "        return None\n",
    "\n",
    "    def add(self, key: Any, value: Any) -> bool:\n",
    "        hash = self.hash_value(key)\n",
    "        p = self.table[hash]\n",
    "        \n",
    "        while p is not None:\n",
    "            if p.key == key:\n",
    "                return False\n",
    "            p = p.next\n",
    "            \n",
    "        temp = None(key, value, self.table[hash])\n",
    "        self.table[hash] = temp\n",
    "        return True\n",
    "    \n",
    "    def remove(self, key: Any) -> bool:\n",
    "        hash = self.hash_value(key)\n",
    "        p = self.table[hash]\n",
    "        pp = None\n",
    "        \n",
    "        while p is not None:\n",
    "            if p.key == key:\n",
    "                if pp is None:\n",
    "                    self.table[hash] = p.next\n",
    "                else:\n",
    "                    pp.next = p.next\n",
    "                return True\n",
    "            pp = p\n",
    "            p = p.next\n",
    "        return False\n",
    "    \n",
    "    def dump(self) -> None:\n",
    "        for i in range(self.capacity):\n",
    "            p = self.table[i]\n",
    "            print(i, end='')\n",
    "            while p is not None:\n",
    "                print(f' -> {p.key}({p.value})', end='')\n",
    "                p = p.next\n",
    "            print()"
   ]
  },
  {
   "cell_type": "markdown",
   "metadata": {},
   "source": []
  },
  {
   "cell_type": "code",
   "execution_count": null,
   "metadata": {},
   "outputs": [],
   "source": []
  }
 ],
 "metadata": {
  "kernelspec": {
   "display_name": "aiffel",
   "language": "python",
   "name": "aiffel"
  },
  "language_info": {
   "codemirror_mode": {
    "name": "ipython",
    "version": 3
   },
   "file_extension": ".py",
   "mimetype": "text/x-python",
   "name": "python",
   "nbconvert_exporter": "python",
   "pygments_lexer": "ipython3",
   "version": "3.7.9"
  }
 },
 "nbformat": 4,
 "nbformat_minor": 4
}
