{
 "cells": [
  {
   "cell_type": "markdown",
   "metadata": {},
   "source": [
    "- 그리디 알고리즘(탐욕법)은 현재 상황에서 지금 당장 좋은 것만 고르는 방법을 의미\n",
    "- 일반적인 그리디 알고리즘은 문제를 풀기 위한 최소한의 아이디어를 떠올릴 수 있는 능력을 요구\n",
    "- 그리디 해법은 그 정당성 분석이 중요\n",
    "    + 단순히 가장 좋아 보이는 것을 반복적으로 선택해도 최적의 해를 구할 수 있는지 검토\n",
    "- 일번적인 상황에서 그리디 알고리즘은 최적의 해를 보장할 수 없을 때가 많다.  \n",
    "<img src=\"./images/coma_1.png\" width=\"70%\" height=\"70%\" align=\"left\"></img>        \n",
    "ex)최적의 해는 5-7-9 지만 그리디 알고리즘은 5-10-4를 도출한다. "
   ]
  },
  {
   "cell_type": "markdown",
   "metadata": {},
   "source": [
    "<img src=\"./images/coma_2.png\" width=\"70%\" height=\"70%\" align=\"left\"></img>    "
   ]
  },
  {
   "cell_type": "markdown",
   "metadata": {},
   "source": [
    "문제의 정당성 분석  \n",
    "가장 큰 화폐 단위부터 돈을 거슬러 주는 것이 최적의 해를 보장하는 이유는 무엇일까?  \n",
    "- 가지고 있는 동전 중에서 큰 단위가 항상 작은 단위의 배수이므로 작은 단위의 동전들을 종합해 다른 해가 나올 수 없기 때문이다.  \n",
    "만약에 800원을 거슬러 주어야 하는데 화폐단위가 500원, 400원, 100원이라면 어떻게 될까? -> 400원 두개가 답이겠지...  \n",
    "그리디 알고리즘 문제에서는 이처럼 문제 풀이를 위한 최소한의 아이디어를 떠올리고 이것이 정당한지 검토할 수 있어야 한다.   "
   ]
  },
  {
   "cell_type": "code",
   "execution_count": 2,
   "metadata": {},
   "outputs": [
    {
     "name": "stdout",
     "output_type": "stream",
     "text": [
      "6\n"
     ]
    }
   ],
   "source": [
    "n = 1260\n",
    "count = 0\n",
    "\n",
    "# 큰 단위의 화폐부터 차례대로 확인하기\n",
    "array = [500, 100, 50, 10]\n",
    "\n",
    "for coin in array:\n",
    "    count += n//coin # 해당 화폐로 거술러 줄 수 있는 동전의 개수 세기\n",
    "    n %= coin\n",
    "    \n",
    "print(count)"
   ]
  },
  {
   "cell_type": "markdown",
   "metadata": {},
   "source": [
    "화폐의 종류가 k라고 할 때, 소스코드의 시간 복잡도는 O(K) 이다."
   ]
  },
  {
   "cell_type": "markdown",
   "metadata": {},
   "source": [
    "<img src=\"./images/coma_3.png\" width=\"70%\" height=\"70%\" align=\"left\"></img>    \n",
    "<img src=\"./images/coma_4.png\" width=\"70%\" height=\"70%\" align=\"left\"></img>    "
   ]
  },
  {
   "cell_type": "markdown",
   "metadata": {},
   "source": [
    "내 풀이"
   ]
  },
  {
   "cell_type": "code",
   "execution_count": 20,
   "metadata": {},
   "outputs": [
    {
     "name": "stdout",
     "output_type": "stream",
     "text": [
      "4\n"
     ]
    }
   ],
   "source": [
    "N = 17\n",
    "K = 4\n",
    "\n",
    "cnt = 0\n",
    "tmp = N % 2 # 나눈 나머지\n",
    "if tmp == 0:\n",
    "    cnt = N // K\n",
    "else:\n",
    "    tempN = N - 1\n",
    "    cnt += 1\n",
    "    while tempN > 1:\n",
    "        tempN = tempN // K\n",
    "        cnt += 1\n",
    "print(cnt)  \n",
    "\n",
    "# k가 홀수 일때는 적용이 되지않는다.ㅜㅜ"
   ]
  },
  {
   "cell_type": "markdown",
   "metadata": {},
   "source": [
    "교재 풀이   \n",
    "<img src=\"./images/coma_7.png\" width=\"70%\" height=\"70%\" align=\"left\"></img>    "
   ]
  },
  {
   "cell_type": "code",
   "execution_count": 31,
   "metadata": {},
   "outputs": [
    {
     "name": "stdout",
     "output_type": "stream",
     "text": [
      "100 45\n",
      "target : 90\n",
      "result : 10\n",
      "n : 90\n",
      "result : 11\n",
      "n : 2\n",
      "------------------------------\n"
     ]
    }
   ],
   "source": [
    "# N, K을 공백을 기준으로 구분하여 입력 받기\n",
    "n, k = map(int, input().split())\n",
    "\n",
    "result = 0\n",
    "\n",
    "while True:\n",
    "    ############# N이 K로 나누어 떨어지는 수가 될 때까지 [빼주기]\n",
    "    target = (n//k) * k # n을 k로 나눈 몫에다 다시 k를 곱하기 ex)(100//45) = 2, 2*45는 90\n",
    "    print(f\"target : {target}\")\n",
    "    result += (n-target)\n",
    "    print(f\"result : {result}\")\n",
    "    n = target\n",
    "    print(f\"n : {n}\")\n",
    "    # N이 K보다 작을 때 (더 이상 나눌 수 없을 때) 반복문 탈출\n",
    "    if n < k: \n",
    "        break\n",
    "    ############ K로 [나누기]\n",
    "    result += 1 \n",
    "    print(f\"result : {result}\")\n",
    "    n //= k \n",
    "    print(f\"n : {n}\")\n",
    "    print('------------------------------')\n",
    "# 마지막으로 남은 수에 대하여 1씩 빼기 \n",
    "result += (n-1)\n",
    "print(result)\n"
   ]
  },
  {
   "cell_type": "code",
   "execution_count": 29,
   "metadata": {},
   "outputs": [
    {
     "data": {
      "text/plain": [
       "0"
      ]
     },
     "execution_count": 29,
     "metadata": {},
     "output_type": "execute_result"
    }
   ],
   "source": [
    "(2//45)"
   ]
  },
  {
   "cell_type": "markdown",
   "metadata": {},
   "source": [
    "<img src=\"./images/coma_5.png\" width=\"70%\" height=\"70%\" align=\"left\"></img>    \n",
    "<img src=\"./images/coma_6.png\" width=\"70%\" height=\"70%\" align=\"left\"></img>    "
   ]
  },
  {
   "cell_type": "code",
   "execution_count": 40,
   "metadata": {},
   "outputs": [
    {
     "name": "stdout",
     "output_type": "stream",
     "text": [
      "12345\n",
      "180\n"
     ]
    }
   ],
   "source": [
    "data = input() #input을 받은 데이터는 string type 이다. \n",
    "\n",
    "result = int(data[0]) #문자열중 앞에 하나를 가져와 int형으로 바꿔 result에 저장\n",
    "\n",
    "for i in range(1, len(data)): # 두번째 문자열부터 꺼냄 \n",
    "    num = int(data[i])\n",
    "    if num <= 1 or result <=1:\n",
    "        result += num\n",
    "    else:\n",
    "        result *= num\n",
    "        \n",
    "print(result)"
   ]
  },
  {
   "cell_type": "code",
   "execution_count": 41,
   "metadata": {},
   "outputs": [
    {
     "name": "stdout",
     "output_type": "stream",
     "text": [
      "12345\n"
     ]
    }
   ],
   "source": [
    "data = input()"
   ]
  },
  {
   "cell_type": "code",
   "execution_count": 49,
   "metadata": {},
   "outputs": [
    {
     "data": {
      "text/plain": [
       "str"
      ]
     },
     "execution_count": 49,
     "metadata": {},
     "output_type": "execute_result"
    }
   ],
   "source": [
    "type(data)"
   ]
  },
  {
   "cell_type": "markdown",
   "metadata": {},
   "source": [
    "<img src=\"./images/coma_8.png\" width=\"70%\" height=\"70%\" align=\"left\"></img>    \n",
    "<img src=\"./images/coma_9.png\" width=\"70%\" height=\"70%\" align=\"left\"></img>    \n",
    "<img src=\"./images/coma_10.png\" width=\"70%\" height=\"70%\" align=\"left\"></img>    "
   ]
  },
  {
   "cell_type": "markdown",
   "metadata": {},
   "source": [
    "내 풀이"
   ]
  },
  {
   "cell_type": "code",
   "execution_count": 84,
   "metadata": {},
   "outputs": [
    {
     "name": "stdout",
     "output_type": "stream",
     "text": [
      "[1]\n",
      "1\n",
      "1\n",
      "1\n",
      "-----------------\n",
      "[2]\n",
      "2\n",
      "1\n",
      "1\n",
      "-----------------\n",
      "[2, 4]\n",
      "4\n",
      "2\n",
      "1\n",
      "-----------------\n",
      "[2, 4, 1]\n",
      "4\n",
      "3\n",
      "1\n",
      "-----------------\n",
      "[2, 4, 1, 2]\n",
      "4\n",
      "4\n",
      "2\n",
      "-----------------\n",
      "[3]\n",
      "3\n",
      "1\n",
      "2\n",
      "-----------------\n",
      "2\n"
     ]
    }
   ],
   "source": [
    "#n = [2, 3, 1, 2, 2]\n",
    "n = [1, 2, 4, 1, 2, 3]\n",
    "\n",
    "group = 0\n",
    "tmp = []\n",
    "for i in n:\n",
    "    tmp.append(i)\n",
    "    print(tmp)\n",
    "    print(max(tmp))\n",
    "    print(len(tmp))\n",
    "    if max(tmp) == len(tmp):   \n",
    "        group += 1\n",
    "        tmp.clear()\n",
    "    print(group)\n",
    "    print('-----------------')\n",
    "print(group)   \n",
    "# sort가 빠졌다. ㅜㅜ"
   ]
  },
  {
   "cell_type": "markdown",
   "metadata": {},
   "source": [
    "교재풀이   \n",
    "<img src=\"./images/coma_11.png\" width=\"70%\" height=\"70%\" align=\"left\"></img>    "
   ]
  },
  {
   "cell_type": "code",
   "execution_count": 80,
   "metadata": {},
   "outputs": [
    {
     "name": "stdout",
     "output_type": "stream",
     "text": [
      "1 2 4 1 2 3\n",
      "3\n"
     ]
    }
   ],
   "source": [
    "#n = int(input())\n",
    "data = list(map(int, input().split()))\n",
    "data.sort()\n",
    "\n",
    "result = 0 # 총 그룹의 수\n",
    "count = 0 # 현재 그룹에 포함된 모험가의 수\n",
    "\n",
    "for i in data: # 공포도를 낮은 것부터 하나씩 확인하며\n",
    "    count += 1 # 현재 그룹에 해당 모험가를 포함시키기\n",
    "    if count >= i: # 현재 그룹에 포함된 모험가의 수가 현재의 공포도 이상이라면 그룹 결성\n",
    "        result += 1 # 총 그룹의 수 증가 시키기\n",
    "        count = 0 # 현재 그룹에 포함된 모험가의 수 초기화\n",
    "\n",
    "print(result)"
   ]
  }
 ],
 "metadata": {
  "kernelspec": {
   "display_name": "Python 3",
   "language": "python",
   "name": "python3"
  },
  "language_info": {
   "codemirror_mode": {
    "name": "ipython",
    "version": 3
   },
   "file_extension": ".py",
   "mimetype": "text/x-python",
   "name": "python",
   "nbconvert_exporter": "python",
   "pygments_lexer": "ipython3",
   "version": "3.7.9"
  }
 },
 "nbformat": 4,
 "nbformat_minor": 4
}
