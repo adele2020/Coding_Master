{
 "cells": [
  {
   "cell_type": "markdown",
   "metadata": {},
   "source": [
    "## 다이나믹 프로그래밍\n",
    "- 다이나믹 프로그래밍은 메모리를 적절히 사용하여 수행시간 효율성을 비약적으로 향상시키는 방법\n",
    "- 이미 계산된 결과(작은문제)는 별도의 메모리 영역에 저장하여 다시 계산하지 않도록 한다. \n",
    "- 다이나믹 프로그래밍의 구현은 일반적으로 두 가지 방식(탑다운과 보텀업)으로 구성된다. \n",
    "- 다이나믹 프로그래밍은 동적 계획법이라고 부른다.\n",
    "- 일반적인 프로그래밍 분야에서의 동적(Dynamic)이란 어떤 의미일까?\n",
    "    + 자료구조에서 동적 할당(Dynamic Allocation)은 '프로그램이 실행되는 도중에 실행에 필요한 메모리에 할당하는 기법'을 의미\n",
    "    \n",
    "### 다이나믹 프로그래밍의 조건\n",
    "- 다이나믹 프로그래밍은 문제가 다음 조건을 만족할 때 사용\n",
    "    1. 최적 부분 구조(Optimal Substructure)\n",
    "        + 큰 문제를 작은 문제로 나눌 수 있으며 작은 문제의 답을 모아서 큰 문제를 해결할 수 있다. \n",
    "    2. 중복되는 부분 문제(Overlapping Subproblem)\n",
    "        + 동일한 작은 문제를 반복적으로 해결해야 한다. \n",
    "\n",
    "### 피보나치 수열에 사용\n",
    "- 피보나치 수열 다음과 같은 형태의 수열이며, 다이나믹 프로그래밍으로 효과적으로 계산할 수 있다. \n",
    "- 점화식으로 인접한 항들 사이의 관계식을 의미\n",
    "- 피보나치 수열을 점화식으로 표현하면 다음과 같다.  \n",
    "\n",
    "$$ a_n = a_{n-1} + a_{n-2}, a_1=1, a_2=1$$\n",
    "<img src=\"./images/coma_75.png\"  width=\"70%\" height=\"70%\"></img>\n",
    "<img src=\"./images/coma_76.png\" width=\"70%\" height=\"70%\"></img>"
   ]
  },
  {
   "cell_type": "code",
   "execution_count": 4,
   "metadata": {},
   "outputs": [
    {
     "name": "stdout",
     "output_type": "stream",
     "text": [
      "3\n"
     ]
    }
   ],
   "source": [
    "# 피보나치 함수(Fibonacci Function)을 재귀함수로 구현\n",
    "def fibo(x):\n",
    "    if x == 1 or x == 2:\n",
    "        return 1\n",
    "    return fibo(x-1) + fibo(x-2)\n",
    "\n",
    "print(fibo(4))"
   ]
  },
  {
   "cell_type": "markdown",
   "metadata": {},
   "source": [
    "<img src=\"./images/coma_77.png\" width=\"70%\" height=\"70%\"></img>"
   ]
  },
  {
   "cell_type": "markdown",
   "metadata": {},
   "source": [
    "### 피보나치 수열의 시간 복잡도 분석\n",
    "- 피보나치 수열의 시간 복잡도는 다음과 같다. \n",
    "    + 세타 표기법 : "
   ]
  },
  {
   "cell_type": "markdown",
   "metadata": {},
   "source": []
  },
  {
   "cell_type": "markdown",
   "metadata": {},
   "source": [
    "### 메모이제이션 (Memoization)\n",
    "- 메모이제이션은 다이나믹 프로그래밍을 구현하는 방법 중 하나이다.\n",
    "- 한 번 계산한 결과를 메모리 공간에 메모하는 방식이다.\n",
    "    + 같은 문제를 다시 호출하면 메모했던 결과를 그래로 가져온다.\n",
    "    + 값을 기록해 놓는다는 점에서 캐싱(Caching)이라고 한다.\n",
    "    \n",
    "### 탑다운 VS 보텀업\n",
    "- 탑다운(메모이제이션) 방식은 하향식이라고도 하며 보텀업 방식은 상향식이라고도 한다.\n",
    "- 다이나믹 프로그램의 전형적인 형태는 보텀업 방식이다. \n",
    "    + 결과 저장용 리스트는 DP 테이블이라고 부른다.\n",
    "- 엄밀히 말하면 메모이제이션은 이전에 계산된 결과를 일시적으로 기록해 놓는 넓은 개념을 의미한다. \n",
    "    + 따라서 메모이제이션은 다이나믹 프로그래밍에 국한된 개념이 아니다.\n",
    "    + 한 번 계산된 결과를 담아 놓기만 하고 다이나믹 프로그래밍을 위해 활용하지 않을 수도 있다. "
   ]
  },
  {
   "cell_type": "code",
   "execution_count": 2,
   "metadata": {},
   "outputs": [
    {
     "name": "stdout",
     "output_type": "stream",
     "text": [
      "218922995834555169026\n"
     ]
    }
   ],
   "source": [
    "# 피보나치 수열 (탑다운)\n",
    "d = [0] * 100\n",
    "\n",
    "# 재귀로 구현 \n",
    "def fibo(x):\n",
    "    if x == 1 or x == 2:\n",
    "        return 1\n",
    "    # 이미 계산한 적 있는 문제라면 그대로 반환\n",
    "    if d[x] != 0:\n",
    "        return d[x]\n",
    "    # 이미 계산하진 않은 문제라면 점화식에 따라서 피보나치 결과 반환 \n",
    "    d[x] = fibo(x-1) + fibo(x-2)\n",
    "    return d[x]\n",
    "\n",
    "print(fibo(99))"
   ]
  },
  {
   "cell_type": "code",
   "execution_count": 6,
   "metadata": {},
   "outputs": [
    {
     "name": "stdout",
     "output_type": "stream",
     "text": [
      "218922995834555169026\n"
     ]
    }
   ],
   "source": [
    "# 피보나치 수열 (보텀업)\n",
    "d = [0] * 100\n",
    "\n",
    "d[1] = 1\n",
    "d[2] = 1\n",
    "n = 99\n",
    "\n",
    "# 반복문으로 구현\n",
    "for i in range(3, n+1):\n",
    "    d[i] = d[i - 1] + d[i - 2]\n",
    "\n",
    "print(d[n])    "
   ]
  },
  {
   "cell_type": "markdown",
   "metadata": {},
   "source": [
    "<img src=\"./images/coma_78.png\" width=\"70%\" height=\"70%\"></img>\n",
    "<img src=\"./images/coma_79.png\" width=\"70%\" height=\"70%\"></img>"
   ]
  },
  {
   "cell_type": "markdown",
   "metadata": {},
   "source": [
    "- 메모이제이션을 이용하는 경우 피보나치 수열 함수의 시간 복잡도는 $O(N)$이다."
   ]
  },
  {
   "cell_type": "code",
   "execution_count": 12,
   "metadata": {},
   "outputs": [
    {
     "name": "stdout",
     "output_type": "stream",
     "text": [
      "f(6) f(5) f(4) f(3) f(2) f(1) f(2) f(3) f(4) "
     ]
    },
    {
     "data": {
      "text/plain": [
       "8"
      ]
     },
     "execution_count": 12,
     "metadata": {},
     "output_type": "execute_result"
    }
   ],
   "source": [
    "d = [0]*100\n",
    "def fibo(x):\n",
    "    print('f('+str(x)+')', end=' ')\n",
    "    if x == 1 or x == 2:\n",
    "        return 1\n",
    "    if d[x] != 0:\n",
    "        return d[x]\n",
    "    d[x] = fibo(x-1) + fibo(x-2)\n",
    "    return d[x]\n",
    "fibo(6)"
   ]
  },
  {
   "cell_type": "markdown",
   "metadata": {},
   "source": [
    "### 다이나믹 프로그래밍 vs 분할 정복\n",
    "- 다이나믹 프로그래밍과 분할 정복은 모두 최적 부분 구조를 가질 때 사용할 수 있다 \n",
    "    + 큰 문제를 작은 문제로 나눌 수 있으며 작은 문제의 답을 모아서 큰 문제를 해결할 수 있는 상황\n",
    "- 다이나믹 프로그래밍과 분할 정복의 차이점은 부분 문제의 중복이다. \n",
    "    + 다이나믹 프로그래밍 문제에서는 각 부분 문제들이 서로 영향을 미치며 부분 문제가 중복된다.\n",
    "    + 분할 정복 문제에서는 동일한 부분 문제가 반복적으로 계산되지 않는다.\n",
    "    "
   ]
  },
  {
   "cell_type": "markdown",
   "metadata": {},
   "source": [
    "<img src=\"./images/coma_80.png\" width=\"70%\" height=\"70%\"></img>"
   ]
  },
  {
   "cell_type": "markdown",
   "metadata": {},
   "source": [
    "### 다이나믹 프로그래밍 문제에 접근하는 방법\n",
    "- 주어진 문제가 다이나믹 프로그래밍 유형임을 파악하는 것이 중요하다. \n",
    "- 가장 먼저 그리디, 구현, 완전탐색 등의 아이디어로 문제를 해결할 수 있는지 검토할 수 있다. \n",
    "    + 다른 알고리즘으로 풀이 방법이 떠오리지 않으면 다이나믹 프로그래밍을 고려해본다. \n",
    "- 일단 재귀 함수로 비효율적인 완전 탐색 프로그램을 작성한 뒤에 (탑다운) 작은 문제에서 구한 답이 큰 문제에서 그대로 사용될 수 있으면, 코드를 개선하는 방법을 사용할 수 있다. \n",
    "- 일반적인 코딩 테스트 수준에서는 기본 유형의 다이나믹 프로그래밍 문제가 출제되는 경우가 많다. "
   ]
  },
  {
   "cell_type": "markdown",
   "metadata": {},
   "source": [
    "<img src=\"./images/coma_81.png\" width=\"70%\" height=\"70%\"></img>\n",
    "<img src=\"./images/coma_82.png\" width=\"70%\" height=\"70%\"></img>\n",
    "<img src=\"./images/coma_83.png\" width=\"70%\" height=\"70%\"></img>"
   ]
  },
  {
   "cell_type": "markdown",
   "metadata": {},
   "source": [
    "<img src=\"./images/coma_94.png\" width=\"70%\" height=\"70%\"></img>\n",
    "<img src=\"./images/coma_95.png\" width=\"70%\" height=\"70%\"></img>\n",
    "<img src=\"./images/coma_96.png\" width=\"70%\" height=\"70%\"></img>\n",
    "<img src=\"./images/coma_97.png\" width=\"70%\" height=\"70%\"></img>"
   ]
  },
  {
   "cell_type": "markdown",
   "metadata": {},
   "source": [
    "문제를 어렵게 생각했는데, 쉽게 생각해야한다. \n",
    "인접한 식량 창고를 털면, 현재 식량 창고는 못 털고\n",
    "하나 떨어진 식량 창고를 털면, 현재 식량 창고까지 털 수 있다. \n",
    "그리고 하나 떨어진 창고 인접 창고까지의 최대값은 단계를 거치면서 다이나믹으로 저장된 원소를 꺼내와서 확인하면 된다. "
   ]
  },
  {
   "cell_type": "code",
   "execution_count": 14,
   "metadata": {},
   "outputs": [
    {
     "name": "stdout",
     "output_type": "stream",
     "text": [
      "4\n",
      "1 3 1 5\n",
      "8\n"
     ]
    }
   ],
   "source": [
    "# 개미 전사 문제 풀이\n",
    "\n",
    "n = int(input())\n",
    "array = list(map(int, input().split()))\n",
    "\n",
    "d = [0]*100\n",
    "\n",
    "# 다이나믹 프로그래밍 진행 (보텀업)\n",
    "d[0] = array[0]\n",
    "d[1] = max(array[0], array[1])\n",
    "for i in range(2, n):\n",
    "    d[i] = max(d[i-1], d[i-2] + array[i]) # (인접한식량창고, 하나떨어진식량창고+현재식량창고) \n",
    "    \n",
    "# 계산된 결과 출력\n",
    "print(d[n - 1])"
   ]
  },
  {
   "cell_type": "markdown",
   "metadata": {},
   "source": [
    "<img src=\"./images/coma_84.png\" width=\"70%\" height=\"70%\"></img>\n",
    "<img src=\"./images/coma_85.png\" width=\"70%\" height=\"70%\"></img>\n",
    "<img src=\"./images/coma_86.png\" width=\"70%\" height=\"70%\"></img>\n",
    "<img src=\"./images/coma_87.png\" width=\"70%\" height=\"70%\"></img>"
   ]
  },
  {
   "cell_type": "markdown",
   "metadata": {},
   "source": [
    "그리디 알고리즘으로 해결하기 어렵다.\n",
    "피보나치 수열 구조와 같이 문제를 푼다. "
   ]
  },
  {
   "cell_type": "code",
   "execution_count": 21,
   "metadata": {},
   "outputs": [
    {
     "name": "stdout",
     "output_type": "stream",
     "text": [
      "26\n",
      "3\n"
     ]
    }
   ],
   "source": [
    "# 정수 x를 입력 받기\n",
    "x = int(input())\n",
    "\n",
    "# 앞서 계산된 결과를 저장하기 위한 DP 테이블 초기화\n",
    "d = [0]*30001\n",
    "\n",
    "# 다이나믹 프로그래밍 진행 (보텀업)\n",
    "for i in range(2, x + 1):\n",
    "    # 현재의 수에서 1을 빼는 경우\n",
    "    d[i] = d[i-1] + 1\n",
    "    # 현재의 수가 2로 나누어 떨어지는 경우\n",
    "    if i % 2 == 0:\n",
    "        d[i] = min(d[i], d[i//2] + 1)\n",
    "    # 현재의 수가 3으로 나누어 떨어지는 경우    \n",
    "    if i % 3 == 0:\n",
    "        d[i] = min(d[i], d[i//3] + 1)\n",
    "    # 현재의 수가 5로 나누어 떨어지는 경우 \n",
    "    if i % 5 == 0:\n",
    "        d[i] = min(d[i], d[i//5] + 1)\n",
    "\n",
    "print(d[x])        "
   ]
  },
  {
   "cell_type": "markdown",
   "metadata": {},
   "source": [
    "<img src=\"./images/coma_88.png\" width=\"70%\" height=\"70%\"></img>\n",
    "<img src=\"./images/coma_89.png\" width=\"70%\" height=\"70%\"></img>\n",
    "<img src=\"./images/coma_90.png\" width=\"70%\" height=\"70%\"></img>\n",
    "<img src=\"./images/coma_91.png\" width=\"70%\" height=\"70%\"></img>\n",
    "<img src=\"./images/coma_92.png\" width=\"70%\" height=\"70%\"></img>\n",
    "<img src=\"./images/coma_93.png\" width=\"70%\" height=\"70%\"></img>"
   ]
  },
  {
   "cell_type": "code",
   "execution_count": null,
   "metadata": {},
   "outputs": [],
   "source": [
    "n, m = map(int, input().split())\n",
    "array = []\n",
    "for i in range(n):\n",
    "    array.append(int(input()))\n",
    "    \n",
    "d = [10001] * (m + 1)\n",
    "\n",
    "d[0] = 0\n",
    "for i in range(n): # i는 각각의 화폐단위 \n",
    "    for j in range(array[i], m + 1): # j는 각각의 금액 \n",
    "        if d[j - array[i]] != 10001:\n",
    "            d[j] = mid(d[j], d[j - array[i]] + 1)\n",
    "            \n",
    "if d[m] == 10001:\n",
    "    print(-1)\n",
    "else:\n",
    "    print(d[m])"
   ]
  },
  {
   "cell_type": "markdown",
   "metadata": {},
   "source": [
    "<img src=\"./images/coma_98.png\" width=\"70%\" height=\"70%\"></img>\n",
    "<img src=\"./images/coma_99.png\" width=\"70%\" height=\"70%\"></img>\n",
    "<img src=\"./images/coma_100.png\" width=\"70%\" height=\"70%\"></img>\n",
    "<img src=\"./images/coma_101.png\" width=\"70%\" height=\"70%\"></img>\n",
    "<img src=\"./images/coma_102.png\" width=\"70%\" height=\"70%\"></img>"
   ]
  },
  {
   "cell_type": "code",
   "execution_count": 22,
   "metadata": {},
   "outputs": [
    {
     "name": "stdout",
     "output_type": "stream",
     "text": [
      "2\n",
      "3 4\n",
      "1 3 3 2 2 1 4 1 0 6 4 7\n",
      "19\n",
      "4 4\n",
      "1 3 1 5 2 2 4 1 5 0 2 3 0 6 1 2\n",
      "16\n"
     ]
    }
   ],
   "source": [
    "# 금광 문제 풀이\n",
    "\n",
    "for tc in range(int(input())):\n",
    "    n, m = map(int, input().split())\n",
    "    array = list(map(int, input().split()))\n",
    "    \n",
    "    dp = []\n",
    "    index = 0\n",
    "    for i in range(n):\n",
    "        dp.append(array[index:index + m])\n",
    "        index += m\n",
    "    for j in range(1, m):\n",
    "        for i in range(n):\n",
    "            if i == 0: left_up = 0\n",
    "            else: left_up = dp[i - 1][j - 1]\n",
    "            if i == n - 1: left_down = 0\n",
    "            else: left_down = dp[i + 1][j - 1]\n",
    "            left = dp[i][j-1]\n",
    "            dp[i][j] = dp[i][j] + max(left_up, left_down, left)\n",
    "    result = 0\n",
    "    for i in range(n):\n",
    "        result = max(result, dp[i][m-1])\n",
    "    print(result)"
   ]
  },
  {
   "cell_type": "markdown",
   "metadata": {},
   "source": [
    "<img src=\"./images/coma_103.png\" width=\"70%\" height=\"70%\"></img>\n",
    "<img src=\"./images/coma_104.png\" width=\"70%\" height=\"70%\"></img>\n",
    "<img src=\"./images/coma_105.png\" width=\"70%\" height=\"70%\"></img>\n",
    "<img src=\"./images/coma_106.png\" width=\"70%\" height=\"70%\"></img>\n",
    "<img src=\"./images/coma_107.png\" width=\"70%\" height=\"70%\"></img>\n",
    "<img src=\"./images/coma_108.png\" width=\"70%\" height=\"70%\"></img>\n",
    "<img src=\"./images/coma_109.png\" width=\"70%\" height=\"70%\"></img>\n",
    "<img src=\"./images/coma_110.png\" width=\"70%\" height=\"70%\"></img>"
   ]
  },
  {
   "cell_type": "code",
   "execution_count": 26,
   "metadata": {},
   "outputs": [
    {
     "name": "stdout",
     "output_type": "stream",
     "text": [
      "7\n",
      "15 11 4 8 5 2 4\n",
      "2\n"
     ]
    }
   ],
   "source": [
    "n = int(input())\n",
    "array = list(map(int, input().split()))\n",
    "# 순서를 뒤집어 '최장 증가 부분 수열' 문제로 변환\n",
    "array.reverse()\n",
    "\n",
    "# 다이나믹 프로그래밍을 위한 1차원 DP 테이블 초기화\n",
    "dp = [1]*n\n",
    "\n",
    "# 가장 긴 증가하는 부분 수열(LIS) 알고리즘 수행 \n",
    "for i in range(1, n):\n",
    "    for j in range(0, i):\n",
    "        if array[j] < array[i]:\n",
    "            dp[i] = max(dp[i], dp[j] + 1)\n",
    "            \n",
    "print(n - max(dp))"
   ]
  }
 ],
 "metadata": {
  "kernelspec": {
   "display_name": "Python 3",
   "language": "python",
   "name": "python3"
  },
  "language_info": {
   "codemirror_mode": {
    "name": "ipython",
    "version": 3
   },
   "file_extension": ".py",
   "mimetype": "text/x-python",
   "name": "python",
   "nbconvert_exporter": "python",
   "pygments_lexer": "ipython3",
   "version": "3.7.9"
  }
 },
 "nbformat": 4,
 "nbformat_minor": 4
}
