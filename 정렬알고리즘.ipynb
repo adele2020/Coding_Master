{
 "cells": [
  {
   "cell_type": "markdown",
   "metadata": {},
   "source": [
    "## 정렬 알고리즘\n",
    "- 내부 정렬 : 정렬한 모든 데이터를 하나의 배열에 저장할 수 있는 경우에 사용하는 알고리즘\n",
    "- 외부 정렬 : 정렬한 데이터가 많아서 하나의 배열에 저장할 수 없는 경우에 사용하는 알고리즘"
   ]
  },
  {
   "cell_type": "markdown",
   "metadata": {},
   "source": [
    "## 버블 정렬\n",
    "- 이웃한 두 원소의 대소관계를 비교하여 필요에 따라 교환을 반복하는 알고리즘, 단순 교환 정렬\n",
    "- 원소 수가 n인 배열에서 n-1번 비교, 교환을 하면 가장 작은 원소인 1이 맨앞으로 이동한다. 일련의 비교.교환하는 과정을 패스라고 한다.\n",
    "\n",
    "### 알고리즘 개선 1\n",
    "어떤 패스의 원소 교환 횟수가 0이면 모든 원소가 정렬을 완료한 경우이므로 그 이후의 패스는 불필요하다고 판단하여 정렬중단\n",
    "\n",
    "### 알고리즘 개선 2\n",
    "이미 정렬된 원소를 제외한 나머지만 비교.교환하도록 스캔 범위를 제한하는 방법으로 개선한 프로그램"
   ]
  },
  {
   "cell_type": "code",
   "execution_count": 11,
   "metadata": {},
   "outputs": [
    {
     "name": "stdout",
     "output_type": "stream",
     "text": [
      "버블 정렬을 수행합니다.\n",
      "원소 수를 입력하세요.:3\n",
      "x[0]:1\n",
      "x[1]:3\n",
      "x[2]:2\n",
      "오름차순으로 정렬했습니다.\n",
      "x[0] = 1\n",
      "x[1] = 2\n",
      "x[2] = 3\n"
     ]
    }
   ],
   "source": [
    "# 버블 정렬 알고리즘 구현하기\n",
    "from typing import MutableSequence\n",
    "\n",
    "def bubble_sort(a: MutableSequence) -> None:\n",
    "    \"\"\"버블정렬\"\"\"\n",
    "    n = len(a)\n",
    "    for i in range(n-1):\n",
    "        for j in range(n-1, i, -1):\n",
    "            if a[j-1] > a[j]:\n",
    "                a[j-1],a[j] = a[j], a[j-1]\n",
    "\n",
    "if __name__ == '__main__':\n",
    "    print('버블 정렬을 수행합니다.')\n",
    "    num = int(input('원소 수를 입력하세요.:'))\n",
    "    x = [None] * num # 원소 수가 num인 배열을 생성\n",
    "    \n",
    "    for i in range(num):\n",
    "        x[i] = int(input(f'x[{i}]:'))\n",
    "    \n",
    "    bubble_sort(x)\n",
    "    \n",
    "    print('오름차순으로 정렬했습니다.')\n",
    "    for i in range(num):\n",
    "        print(f'x[{i}] = {x[i]}')"
   ]
  },
  {
   "cell_type": "code",
   "execution_count": 10,
   "metadata": {},
   "outputs": [
    {
     "name": "stdout",
     "output_type": "stream",
     "text": [
      "버블 정렬을 수행합니다.\n",
      "원소 수를 입력하세요.:3\n",
      "x[0]:2\n",
      "x[1]:3\n",
      "x[2]:1\n",
      "오름차순으로 정렬했습니다.\n",
      "x[0] = 1\n",
      "x[1] = 2\n",
      "x[2] = 3\n"
     ]
    }
   ],
   "source": [
    "# 버블 정렬 알고리즘 구현하기 (알고리즘의 개선 1)\n",
    "from typing import MutableSequence\n",
    "\n",
    "def bubble_sort1(a: MutableSequence) -> None:\n",
    "    \"\"\"버블정렬\"\"\"\n",
    "    n = len(a)\n",
    "    for i in range(n-1):\n",
    "        exchng = 0 # 패스에서 교환 횟수\n",
    "        for j in range(n-1, i, -1):\n",
    "            if a[j-1] > a[j]:\n",
    "                a[j-1],a[j] = a[j], a[j-1]\n",
    "                exchng += 1\n",
    "        if exchng == 0:\n",
    "            break\n",
    "\n",
    "if __name__ == '__main__':\n",
    "    print('버블 정렬을 수행합니다.')\n",
    "    num = int(input('원소 수를 입력하세요.:'))\n",
    "    x = [None] * num # 원소 수가 num인 배열을 생성\n",
    "    \n",
    "    for i in range(num):\n",
    "        x[i] = int(input(f'x[{i}]:'))\n",
    "    \n",
    "    bubble_sort(x)\n",
    "    \n",
    "    print('오름차순으로 정렬했습니다.')\n",
    "    for i in range(num):\n",
    "        print(f'x[{i}] = {x[i]}')"
   ]
  },
  {
   "cell_type": "code",
   "execution_count": 8,
   "metadata": {},
   "outputs": [
    {
     "name": "stdout",
     "output_type": "stream",
     "text": [
      "버블 정렬을 수행합니다.\n",
      "원소 수를 입력하세요.:4\n",
      "x[0]:2\n",
      "x[1]:1\n",
      "x[2]:3\n",
      "x[3]:4\n",
      "오름차순으로 정렬했습니다.\n",
      "x[0] = 1\n",
      "x[1] = 2\n",
      "x[2] = 3\n",
      "x[3] = 4\n"
     ]
    }
   ],
   "source": [
    "# 버블 정렬 알고리즘 구현하기 (알고리즘의 개선2)\n",
    "from typing import MutableSequence\n",
    "\n",
    "def bubble_sort2(a: MutableSequence) -> None:\n",
    "    \"\"\"버블 정렬(스캔 범위를 제한)\"\"\"\n",
    "    n = len(a)\n",
    "    k = 0\n",
    "    while k < n-1:\n",
    "        last = n -1\n",
    "        for j in range(n-1, k, -1):\n",
    "            if a[j-1] > a[j]:\n",
    "                a[j-1], a[j] = a[j], a[j-1]\n",
    "                last = j\n",
    "        k = last\n",
    "\n",
    "if __name__ == '__main__':\n",
    "    print('버블 정렬을 수행합니다.')\n",
    "    num = int(input('원소 수를 입력하세요.:'))\n",
    "    x = [None] * num # 원소 수가 num인 배열을 생성\n",
    "    \n",
    "    for i in range(num):\n",
    "        x[i] = int(input(f'x[{i}]:'))\n",
    "    \n",
    "    bubble_sort2(x)\n",
    "    \n",
    "    print('오름차순으로 정렬했습니다.')\n",
    "    for i in range(num):\n",
    "        print(f'x[{i}] = {x[i]}')        "
   ]
  },
  {
   "cell_type": "markdown",
   "metadata": {},
   "source": [
    "### 셰이커 정렬하기\n",
    "- 양방향 버블 정렬, 칵테일 정렬, 칵테일 셰이커 정렬\n",
    "- 홀수 패스에서는 가장 작은 원소를 맨 앞으로 이동시키고, 짝수 패쓰에서는 가장 큰 원소를 맨 뒤로 이동시켜 패스의 스캔방향을 번갈아 진행"
   ]
  },
  {
   "cell_type": "code",
   "execution_count": 13,
   "metadata": {},
   "outputs": [],
   "source": [
    "# 셰이커 정렬 알고리즘 구현하기\n",
    "from typing import MutableSequence\n",
    "\n",
    "def shaker_sort(a: MutableSequence) -> None:\n",
    "    \"\"\"셰이커 정렬\"\"\"\n",
    "    left = 0\n",
    "    right = len(a) - 1\n",
    "    last = right\n",
    "    while left < right:\n",
    "        for j in range(right, left, -1):\n",
    "            if a[j-1] > a[j]:\n",
    "                a[j-1], a[j] = a[j], a[j-1]\n",
    "                last = j\n",
    "        left = last\n",
    "    \n",
    "        for j in range(left, right):\n",
    "            if a[j] > a[j+1]:\n",
    "                a[j], a[j+1] = a[j+1], a[j]\n",
    "                last = j\n",
    "        right = last\n",
    "        "
   ]
  },
  {
   "cell_type": "markdown",
   "metadata": {},
   "source": [
    "### 산술 연산에 사용하는 내장 함수  \n",
    "- abs(x) : x의 절대값을 반환한다.   \n",
    "- bool(x) : x의 논릿값(True 또는 False)을 반환한다.   \n",
    "- complex(real, imag) : `real+imag*1j`인 복소수를 반환하거나, 문자열 또는 수를 복소수로 변환한 값을 반환한다. imag를 생략하면 `real+0j`를, real과 imag 둘 다 생략한다면 0j를 반환한다.   \n",
    "- divmod(a, b) : a를 b로 나누었을 때의 몫과 나머지로 구성된 튜플을 반환한다.   \n",
    "- flat(x) : 문자열 또는 수로 입력받은 x를 부동 소수점 수로 변환하여 값을 반환한다. x를 생략하면 0.0을 반환한다.    \n",
    "- int(x, base) : x를 int형 정수로 변환한 값을 반환. base는 0~36의 범위에서 진수를 나타내야하며, 생략할 경우는 10(10진법)이다.   \n",
    "- max(args1, args2, ...) : 인수의 최댓값을 반환   \n",
    "- min(args1, args2, ...) : 인수의 최솟값을 반환   \n",
    "- oct(x) : 정숫값 x에 해당하는 8진수 문자열을 반환   \n",
    "- pow(x, y, z) : x의 y제곱인`(x**y)`를 반환, z값을 입력하면 x의 y제곱을 z로 나누었을 때의 나머지를 반환. 같은 식인 pow(x,y)%z보다 효율적\n",
    "- round(n, ndigits) : n의 소수부를 ndigits자릿수가 되도록 반올림한 값을 반환. ndigits가 None이거나 생략한 경우 입력한 값에 가장 가까운 정수 반환   \n",
    "- sum(x, start) : x의 원솟값을 처음부터 끝까지 순서대로 더한 총합에 start값을 더하여 반환. start의 기본값은 0.   "
   ]
  },
  {
   "cell_type": "markdown",
   "metadata": {},
   "source": [
    "## 단순선택정렬\n",
    "- 가장 작은 원소부터 선택해 알맞은 위치로 옮기는 작업을 반복하며 정렬하는 알고리즘 \n",
    "- 교환과정\n",
    "    + 아직 정렬하지 않은 부분에서 값이 가장 작은 원소 a[min]을 선택한다.\n",
    "    + a[min]과 아직 정렬하지 않은 부분에서 맨 앞에\n",
    "- 단순 선택 정렬 알고리즘의 원솟값을 비교하는 횟수는 $(n^2 - n)/2$ 이다.   \n",
    "- 서로 이웃하지 않는 떨어져 있는 원소를 교환하므로 안정적이지 않다. \n",
    "- 중복된 값으로 정렬이 필요없는 데이터의 위치를 바꾸므로 안정적인지 않다. "
   ]
  },
  {
   "cell_type": "code",
   "execution_count": 1,
   "metadata": {},
   "outputs": [],
   "source": [
    "# 단순 선택 정렬 알고리즘\n",
    "from typing import MutableSequence\n",
    "\n",
    "def selection_sort(a: MutableSequence) -> None:\n",
    "    \"\"\"단순 선택 정렬\"\"\"\n",
    "    n = len(a)\n",
    "    for i in range(n - 1):\n",
    "        min = i # 정렬할 부분에서 가장 작은 원소의 인덱스\n",
    "        for j in range(i + 1, n):\n",
    "            if a[j] < a[min]:\n",
    "                min = j\n",
    "        a[i], a[min] = a[min], a[i] # 정렬할 부분에서 맨 앞의 원소와 가장 작은 원소를 교환"
   ]
  },
  {
   "cell_type": "markdown",
   "metadata": {},
   "source": [
    "## 단순 삽입 정렬\n",
    "- 주목하는 원소보다 더 앞쪽에서 알맞은 위치로 삽입하여 정렬하는 알고리즘\n",
    "- 단순 선택 정렬과 비슷해 보이지만 값이 가장 작은 원소를 선택하지 않는 다는 점에서 다르다. \n",
    "- 아직 정렬되지 않은 부분의 맨 앞 원소를 정렬된 부분의 알맞은 위치에 삽입하는 작업을 n-1번 반복한다. \n",
    "- 반복 작업\n",
    "    + 종료조건 1 : 정렬된 배열의 왼쪽 끝에 도달한 경우\n",
    "    + 종료조건 2 : tmp보다 작거나 키값이 같은 원소 a[j-1]을 발견할 경우\n",
    "    + 계속조건 1 : j 가 0보다 큰 경우\n",
    "    + 계속조건 2 : a[j-1]의 값이 tmp보다 큰 경우\n",
    "- 이 알고리즘은 서로 떨어져 있는 원소를 교환하지 않으므로 안정적이라 할수 있다. \n",
    "- 원소의 비교 횟수와 교환 횟수는 모두 $n^2/2$번이다."
   ]
  },
  {
   "cell_type": "code",
   "execution_count": 9,
   "metadata": {},
   "outputs": [
    {
     "name": "stdout",
     "output_type": "stream",
     "text": [
      "단순 삽입 정렬을 수행한다.\n",
      "원소 수를 입력하세요.: 3\n",
      "x[0]: 1\n",
      "x[1]: 4\n",
      "x[2]: 2\n",
      "오른차순으로 정렬했습니다. \n",
      "x[0] = 1\n",
      "x[1] = 2\n",
      "x[2] = 4\n"
     ]
    }
   ],
   "source": [
    "## 4. 단순삽입 정렬 알고리즘 구현하기\n",
    "from typing import MutableSequence\n",
    "\n",
    "def insertion_sort(a: MutableSequence) -> None:\n",
    "    \"\"\"단순 삽입 정렬\"\"\"\n",
    "    n = len(a)\n",
    "    for i in range(1,n):\n",
    "        j = i\n",
    "        tmp = a[i]\n",
    "        #print(f'tmp : {tmp}')\n",
    "        while j > 0 and a[j-1] > tmp:\n",
    "            #print(f'a[j-1] : {a[j-1]}')\n",
    "            a[j] = a[j-1]\n",
    "            j -= 1\n",
    "            #print(f'j:{j}')\n",
    "        a[j] = tmp\n",
    "        #print(f'a[j]:{a[j]}')\n",
    "        #print()\n",
    "            \n",
    "if __name__ == '__main__':\n",
    "    print('단순 삽입 정렬을 수행한다.')\n",
    "    num = int(input('원소 수를 입력하세요.: '))\n",
    "    x = [None] * num # 원소 수가 num인 배열을 생성\n",
    "    \n",
    "    for i in range(num):\n",
    "        x[i] = int(input(f'x[{i}]: '))\n",
    "            \n",
    "    insertion_sort(x) # 배열 x를 단순 삽입 정렬\n",
    "    \n",
    "    print('오른차순으로 정렬했습니다. ')\n",
    "    for i in range(num):\n",
    "        print(f'x[{i}] = {x[i]}')"
   ]
  },
  {
   "cell_type": "markdown",
   "metadata": {},
   "source": [
    "- 단순 정렬(버블, 선택, 삽입)알고리즘의 시간 복잡도는 모두 $O(n^2)$으로 프로그램 효율이 좋지 않다. "
   ]
  },
  {
   "cell_type": "markdown",
   "metadata": {},
   "source": [
    "### 이진 삽입 정렬\n",
    "- 단순 삽입 정렬은 원소 수가 많아지면 원소 삽입에 필요한 비교.교환 비용이 커진다. \n",
    "- 이진 검색법을 사용하여 삽입 정렬을 하면 이미 정렬을 마친 배열을 제외하고 원소를 삽입해야 할 위치를 검사하므로 비용을 줄일 수 있다."
   ]
  },
  {
   "cell_type": "code",
   "execution_count": null,
   "metadata": {},
   "outputs": [],
   "source": [
    "# 이진 삽입 정렬 알고리즘 구현하기\n",
    "from typing import MutableSequence\n",
    "\n",
    "def binary_insertion_sort(a: MutableSequence) -> None:\n",
    "    \"\"\"이진 삽입 정렬\"\"\"\n",
    "    n = len(a)\n",
    "    for i in range(1, n);\n",
    "        key = a[i]\n",
    "        pl = 0    # 검색 범위의 맨 앞 원소 인덱스\n",
    "        pr = i - 1 # 검색 범위의 맨 끝 원소 인덱스\n",
    "        \n",
    "        while True:\n",
    "            pc = (pl+pr)//2 # 검색 범위의 가운데 원소 인덱스\n",
    "            if a[pc] == key: # 검색 성공ㅇ\n",
    "                break\n",
    "            elif a[pc] < key:\n",
    "                pl = pc + 1\n",
    "            else:\n",
    "                pr = pc - 1\n",
    "            if pl > pr:\n",
    "                break\n",
    "                \n",
    "        pd = pc + 1 if pl <= pr else pr + 1\n",
    "        \n",
    "        for j in range(i, pd, -1):\n",
    "            a[j] = a[j - 1]\n",
    "        a[pd] = key\n",
    "        \n",
    "if __name__ == '__main__':\n",
    "    print('단순 삽입 정렬을 수행한다.')\n",
    "    num = int(input('원소 수를 입력하세요.: '))\n",
    "    x = [None] * num # 원소 수가 num인 배열을 생성\n",
    "    \n",
    "    for i in range(num):\n",
    "        x[i] = int(input(f'x[{i}]: '))\n",
    "            \n",
    "    binary_insertion_sort(x) # 배열 x를 단순 삽입 정렬\n",
    "    \n",
    "    print('오른차순으로 정렬했습니다. ')\n",
    "    for i in range(num):\n",
    "        print(f'x[{i}] = {x[i]}')"
   ]
  },
  {
   "cell_type": "code",
   "execution_count": null,
   "metadata": {},
   "outputs": [],
   "source": [
    "\n",
    "## 5. 셸 정렬\n"
   ]
  },
  {
   "cell_type": "code",
   "execution_count": null,
   "metadata": {},
   "outputs": [],
   "source": [
    "\n",
    "## 6. 퀵 정렬\n",
    "\n"
   ]
  },
  {
   "cell_type": "code",
   "execution_count": null,
   "metadata": {},
   "outputs": [],
   "source": [
    "## 7. 병합 정렬\n"
   ]
  },
  {
   "cell_type": "code",
   "execution_count": null,
   "metadata": {},
   "outputs": [],
   "source": [
    "\n",
    "## 8. 힙 정렬\n"
   ]
  },
  {
   "cell_type": "code",
   "execution_count": null,
   "metadata": {},
   "outputs": [],
   "source": [
    "\n",
    "## 9. 도수 정렬"
   ]
  }
 ],
 "metadata": {
  "kernelspec": {
   "display_name": "Python 3",
   "language": "python",
   "name": "python3"
  },
  "language_info": {
   "codemirror_mode": {
    "name": "ipython",
    "version": 3
   },
   "file_extension": ".py",
   "mimetype": "text/x-python",
   "name": "python",
   "nbconvert_exporter": "python",
   "pygments_lexer": "ipython3",
   "version": "3.8.3"
  }
 },
 "nbformat": 4,
 "nbformat_minor": 4
}
