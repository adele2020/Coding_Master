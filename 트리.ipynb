{
 "cells": [
  {
   "cell_type": "markdown",
   "metadata": {},
   "source": [
    "## 1. 트리구조\n",
    "### 트리의 구조와 관련 용어\n",
    "루트\n",
    "리프\n",
    "비단말 노드\n",
    "자식\n",
    "부모\n",
    "형제\n",
    "조상\n",
    "자손\n",
    "레벨\n",
    "차수\n",
    "높이\n",
    "서브트리\n",
    "빈 트리\n",
    "### 순서트리와 무순서 트리\n",
    "### 순서 트리의 검색\n",
    "너비우선검색\n",
    "깊이우선검색\n",
    "전위순회\n",
    "중위순회\n",
    "후위순회\n",
    "## 2. 이진 트리와 이진 검색 트리\n",
    "### 이진트리\n",
    "### 완전이진트리\n",
    "### 균형검색트리\n",
    "\n"
   ]
  }
 ],
 "metadata": {
  "kernelspec": {
   "display_name": "Python 3",
   "language": "python",
   "name": "python3"
  },
  "language_info": {
   "codemirror_mode": {
    "name": "ipython",
    "version": 3
   },
   "file_extension": ".py",
   "mimetype": "text/x-python",
   "name": "python",
   "nbconvert_exporter": "python",
   "pygments_lexer": "ipython3",
   "version": "3.8.3"
  }
 },
 "nbformat": 4,
 "nbformat_minor": 4
}
