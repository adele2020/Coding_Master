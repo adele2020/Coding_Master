{
 "cells": [
  {
   "cell_type": "markdown",
   "metadata": {},
   "source": [
    "# 빅오\n",
    "입력값이 무한대로 향할때 함수의 상한을 설명하는 수학적 표기 방법     \n",
    "(참고. 빅오($O$) 상한을 의미, 빅 오메($\\omega$)가 하한을 의미, 빅세타($\\theta$) 평균을 의미)  \n",
    "- $O(1)$ : 입력값이 아무리 커도 실행 시간은 일정하다. 해시테이블의 조회 및 삽입\n",
    "- $O(log{n})$ : 로그는 매우 크 입력값에도 크게 영향을 받지 않는 편으로 웬만한 n의 크기에 대해서도 매우 견고하다. 이진검색\n",
    "- $O(n)$ : 입력값만큼 실행 시간에 영향을 받으며, 알고리즘을 수행하는 데 걸리는 시간은 입력값에 비례한다. 선형 시간 알고리즘 \n",
    "- $O({n}log{n})$ : 병합 정렬을 비롯한 대부분의 효율 좋은 알고리즘이 이에 해당한다. \n",
    "- $O(n^2)$ : 버블 정렬 같은 비효율적인 정렬 알고리즘이 이에 해당한다. \n",
    "- $O(2^n)$ : 피보나치 수를 재귀로 계산하는 알고리즘이 이에 해당한다. \n",
    "- $O(n!)$: 브루트 포스로 풀이할 때가 이에 해당하며 가장 느린 알고리즘 "
   ]
  },
  {
   "cell_type": "markdown",
   "metadata": {},
   "source": [
    "# 자료구조\n",
    "데이터에 효율적으로 접근하고 조작하기 위한 데이터의 조직, 관리, 저장구조\n",
    "# 자료형\n",
    "컴파일러 또는 인터프리터에게 프로그래머가 데이터를 어떻게 사용하는지를 알려주는 일종의 데이터 속성(Attribute)이다. \n",
    "# 추상자료형\n",
    "ADT라 부르며 자료형에 대한 수학적 모델을 지칭한다. 해당 유형의 자료에 대한 연산들을 명기한 것이고 행동만 정의할 뿐 실제 구현 방법은 명시하지 않는다. \n"
   ]
  }
 ],
 "metadata": {
  "kernelspec": {
   "display_name": "aiffel",
   "language": "python",
   "name": "aiffel"
  },
  "language_info": {
   "codemirror_mode": {
    "name": "ipython",
    "version": 3
   },
   "file_extension": ".py",
   "mimetype": "text/x-python",
   "name": "python",
   "nbconvert_exporter": "python",
   "pygments_lexer": "ipython3",
   "version": "3.7.9"
  }
 },
 "nbformat": 4,
 "nbformat_minor": 4
}
