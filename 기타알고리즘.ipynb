{
 "cells": [
  {
   "cell_type": "markdown",
   "metadata": {},
   "source": [
    "## 소수(Prime Number)\n",
    "- 소수란 1보다 큰 자연수 중에서 1과 자기 자신을 제외한 자연수로는 나누어 떨어지지 않는 자연수 이다. \n",
    "    + 6은 1,2,3,6으로 나누어 떨어지므로 소수가 아니다. \n",
    "    + 7은 1과 7을 제외하고는 나누어 떨어지지 않으므로 소수이다. \n",
    "- 코딩 테스트에서는 어떠한 자연수가 소수인지 아닌지 판별해야 하는 문제가 자주 출제된다. "
   ]
  },
  {
   "cell_type": "markdown",
   "metadata": {},
   "source": [
    "### 소수의판별 : 기본적인 알고리즘"
   ]
  },
  {
   "cell_type": "code",
   "execution_count": 1,
   "metadata": {},
   "outputs": [
    {
     "name": "stdout",
     "output_type": "stream",
     "text": [
      "False\n",
      "True\n"
     ]
    }
   ],
   "source": [
    "# 소수 판별 함수(2이상의 자연수에 대하여)\n",
    "def is_prime_number(x):\n",
    "    for i in range(2,x):\n",
    "        # x가 해당 수로 나누어 떨어진다면\n",
    "        if x % i == 0:\n",
    "            return False # 소수가 아님\n",
    "    return True # 소수임\n",
    "\n",
    "print(is_prime_number(4))\n",
    "print(is_prime_number(7))"
   ]
  },
  {
   "cell_type": "markdown",
   "metadata": {},
   "source": [
    "### 소수의 판별 : 기본적인 알고리즘 성능 분석\n",
    "- 2부터 X-1까지의 모든 자연수에 대하여 연산을 수행해야 한다. \n",
    "    + 모든 수를 하나씩 확인한다는 점에서 시간복잡도는 O(X)이다. "
   ]
  },
  {
   "cell_type": "markdown",
   "metadata": {},
   "source": [
    "### 약수의 성질\n",
    "- 모든 약수가 가운데 약수를 기준으로 곱셈 연산에 대해 대칭을 이루는 것을 알 수 있다. \n",
    "    + 예를 들어 16의 약수는 1,2,4,8,16이다. \n",
    "    + 이때 2 x 8 = 16은 8 x 2 = 16과 대칭이다. \n",
    "- 따라서 우리는 특정한 자연수의 모든 약수를 찾을 때 가운데 약수(제곱근)까지만 확인하면 된다. \n",
    "    + 예를 들어 16이 2로 나누어 떨어진다는 것은 8로도 나누어 떨어진다는 것을 의미한다. "
   ]
  },
  {
   "cell_type": "markdown",
   "metadata": {},
   "source": [
    "### 소수의 판별 : 개선된 알고리즘"
   ]
  },
  {
   "cell_type": "code",
   "execution_count": 4,
   "metadata": {},
   "outputs": [
    {
     "name": "stdout",
     "output_type": "stream",
     "text": [
      "False\n",
      "True\n"
     ]
    }
   ],
   "source": [
    "import math\n",
    "\n",
    "# 소수 판별 함수 (2이상의 자연수에 대하여)\n",
    "def is_prime_number(x):\n",
    "    # 2부터 x의 제곱근까지의 모든 수를 확인하며\n",
    "    for i in range(2, int(math.sqrt(x)) + 1):\n",
    "        # x가 해당 수로 나누어 떨어진다면\n",
    "        if x % i == 0:\n",
    "            return False # 소수가 아님\n",
    "    return True # 소수임\n",
    "\n",
    "print(is_prime_number(4))\n",
    "print(is_prime_number(7))"
   ]
  },
  {
   "cell_type": "markdown",
   "metadata": {},
   "source": [
    "### 소수의 판별 : 개선된 알고리즘 성능 분석\n",
    "- 2부터 X의 제곱근(소수점 이하 무시)까지의 모든 자연수에 대하여 연산을 수행해야 한다. \n",
    "    + 시간 복잡도는 $O(N^{1\\over{2}})$이다. "
   ]
  },
  {
   "cell_type": "markdown",
   "metadata": {},
   "source": [
    "### 다수의 소수 판별\n",
    "- 하나의 수에 대해서 소수인지 아닌지 판별하는 방법을 알아보았다. \n",
    "- 하지만 특정한 수의 범위 안에 존재하는 모든 소수를 찾아야 할 때는 어떻게 할까?\n",
    "    + 에라토스테네스의 체 알고리즘을 사용 할 수 있다. "
   ]
  },
  {
   "cell_type": "markdown",
   "metadata": {},
   "source": [
    "### 에라토스테네스의 체 알고리즘\n",
    "- 다수의 자연수에 대하여 소수 여부를 판별할 때 사용하는 대표적인 알고리즘\n",
    "- 에라토스테네스의 체는 N보다 작거나 같은 모든 소수를 찾을 때 사용한다. \n",
    "- 에라토스테네스의 체 알고리즘의 구체적인 동작 과정\n",
    "    1. 2부터 N까지의 모든 자연수를 나열한다. \n",
    "    2. 남은 수 중에서 아직 처리하지 않은 가장 작은 수 i를 찾는다. \n",
    "    3. 남은 수 중에서 i의 배수를 모두 제거한다 (i는 제거하지 않는다.)\n",
    "    4. 더 이상 반복할 수 없을 때까지 2번과 3번의 과정을 반복한다. "
   ]
  },
  {
   "cell_type": "markdown",
   "metadata": {},
   "source": [
    "<img src=\"./images/coma_119.png\" width=\"70%\" height=\"70%\" align=\"left\"></img>\n",
    "<img src=\"./images/coma_120.png\" width=\"70%\" height=\"70%\" align=\"left\"></img>\n",
    "<img src=\"./images/coma_121.png\" width=\"70%\" height=\"70%\" align=\"left\"></img>\n",
    "<img src=\"./images/coma_123.png\" width=\"70%\" height=\"70%\" align=\"left\"></img>\n",
    "<img src=\"./images/coma_122.png\" width=\"70%\" height=\"70%\" align=\"left\"></img>"
   ]
  },
  {
   "cell_type": "code",
   "execution_count": 6,
   "metadata": {},
   "outputs": [
    {
     "name": "stdout",
     "output_type": "stream",
     "text": [
      "2 3 5 7 11 13 17 19 23 29 31 37 41 43 47 53 59 61 67 71 73 79 83 89 97 101 103 107 109 113 127 131 137 139 149 151 157 163 167 173 179 181 191 193 197 199 211 223 227 229 233 239 241 251 257 263 269 271 277 281 283 293 307 311 313 317 331 337 347 349 353 359 367 373 379 383 389 397 401 409 419 421 431 433 439 443 449 457 461 463 467 479 487 491 499 503 509 521 523 541 547 557 563 569 571 577 587 593 599 601 607 613 617 619 631 641 643 647 653 659 661 673 677 683 691 701 709 719 727 733 739 743 751 757 761 769 773 787 797 809 811 821 823 827 829 839 853 857 859 863 877 881 883 887 907 911 919 929 937 941 947 953 967 971 977 983 991 997 "
     ]
    }
   ],
   "source": [
    "# 에라토스테네스의 체 알고리즘 구현\n",
    "import math\n",
    "\n",
    "n = 1000 # 2부터 1,000까지의 모든 수에 대하여 소수 판별\n",
    "# 처음엔 모든 수가 소수(True)인 것으로 초기화(0과1은 제외)\n",
    "array = [True for i in range(n+1)]\n",
    "\n",
    "# 에라토스테네스의 체 알고리즘 수행\n",
    "# 2부터 n의 제곱근까지의 모든 수를 확인하며 \n",
    "for i in range(2, int(math.sqrt(n))+1):\n",
    "    if array[i] == True: # i가 소수인 경우(남은 수인 경우)\n",
    "        # i를 제외한 i의 모든 배수를 지우기\n",
    "        j = 2\n",
    "        while i * j <= n:\n",
    "            array[i * j] = False\n",
    "            j += 1\n",
    "            \n",
    " # 모든 소수 출력\n",
    "for i in range(2, n + 1):\n",
    "    if array[i]:\n",
    "        print(i, end=' ')"
   ]
  },
  {
   "cell_type": "markdown",
   "metadata": {},
   "source": [
    "### 에라토스테네스의 체 알고리즘 성능 분석\n",
    "- 에라토스테네스의 체 알고리즘의 시간 복잡도는 사실상 선형 시간에 가까울 정도로 매우 빠르다. \n",
    "    + 시간 복잡도 $O(NloglogN)$이다 \n",
    "- 에라토스테네스의 체 알고리즘 다수의 소수를 찾아야 하는 문제에서 효과적으로 사용될 수 있다. \n",
    "    + 하지만 각 자연수에 대한 소수 여부를 저장해야 하므로 메모리가 많이 필요하다. \n",
    "    + 10억이 소수인지 아닌지 판별해야 할 때 에라토스테네스의 체를 사용할 수 있을까?"
   ]
  },
  {
   "cell_type": "markdown",
   "metadata": {},
   "source": [
    "## 투 포인터 (Two Pointers)\n",
    "- 투 포인터 알고리즘은 리스트에 순차적으로 접근해야 할 때 두 개의 점의 위치를 기록하면서 처리하는 알고리즘 의미 \n",
    "- 흔히 2,3,4,5,6,7번 학생을 지목해야 할 때 간단히 '2번부터 7번까지의 학생'이라고 부르곤 한다. \n",
    "- 리스트에 담긴 데이터에 순차적으로 접근해야 할 때는 시작점과 끝점 2개의 점으로 접근할 데이터의 범위를 표현할 수 있다. "
   ]
  },
  {
   "cell_type": "markdown",
   "metadata": {},
   "source": [
    "<img src=\"./images/coma_124.png\" width=\"70%\" height=\"70%\" align=\"left\"></img>\n",
    "<img src=\"./images/coma_125.png\" width=\"70%\" height=\"70%\" align=\"left\"></img>\n",
    "<img src=\"./images/coma_126.png\" width=\"70%\" height=\"70%\" align=\"left\"></img>\n",
    "<img src=\"./images/coma_132.png\" width=\"70%\" height=\"70%\" align=\"left\"></img>\n",
    "<img src=\"./images/coma_133.png\" width=\"70%\" height=\"70%\" align=\"left\"></img>\n",
    "<img src=\"./images/coma_127.png\" width=\"70%\" height=\"70%\" align=\"left\"></img>\n",
    "<img src=\"./images/coma_134.png\" width=\"70%\" height=\"70%\" align=\"left\"></img>\n",
    "<img src=\"./images/coma_128.png\" width=\"70%\" height=\"70%\" align=\"left\"></img>\n",
    "<img src=\"./images/coma_129.png\" width=\"70%\" height=\"70%\" align=\"left\"></img>\n",
    "<img src=\"./images/coma_130.png\" width=\"70%\" height=\"70%\" align=\"left\"></img>\n",
    "<img src=\"./images/coma_131.png\" width=\"70%\" height=\"70%\" align=\"left\"></img>\n",
    "\n"
   ]
  },
  {
   "cell_type": "code",
   "execution_count": 7,
   "metadata": {},
   "outputs": [
    {
     "name": "stdout",
     "output_type": "stream",
     "text": [
      "3\n"
     ]
    }
   ],
   "source": [
    "# 특정한 합을 가지는 부분 연속 수열 찾기 예제\n",
    "n = 5 # 데이터의 개수 N\n",
    "m = 5 # 찾고자 하는 부분 합 M\n",
    "data = [1,2,3,2,5] # 전체 수열\n",
    "\n",
    "count = 0 \n",
    "interval_sum = 0\n",
    "end = 0\n",
    "\n",
    "# start를 차례대로 증가시키며 반복\n",
    "for start in range(n):\n",
    "    # end를 가능한 만큼 이동시키디\n",
    "    while interval_sum < m and end < n:\n",
    "        interval_sum += data[end]\n",
    "        end += 1\n",
    "    # 부분합이 m 일 때 카운트 증가\n",
    "    if interval_sum == m:\n",
    "        count += 1\n",
    "    interval_sum -= data[start] # start index에 있는 데이터를 interval_sum에서 \n",
    "                                # 빼고 start를 진행시킴 \n",
    "\n",
    "print(count)    "
   ]
  },
  {
   "cell_type": "markdown",
   "metadata": {},
   "source": [
    "## 구간 합 (Interval Sum)\n",
    "- 구간 합 문제 : 연속적으로 나열된 N개의 수가 있을 때 특정 구간의 모든 수를 합한 값을 계산 하는 문제\n",
    "- 예를 들어 5개의 데이터로 구성된 수열 {10, 20, 30, 40, 50}이 있다고 가정합시다. \n",
    "    + 두 번재 수부터 네 번째 수까지의 합은 20 + 30 + 40 = 90이다. "
   ]
  },
  {
   "cell_type": "markdown",
   "metadata": {},
   "source": [
    "## 구간 합 빠르게 계산하기 : 문제 설명\n",
    "- N개의 정수로 구성된 수열이 있다. \n",
    "- M개의 쿼리(Query)정보가 주어진다. \n",
    "    + 각 쿼리는 Left 와 Right 로 구성된다. \n",
    "    + 각 쿼리에 대하여 [Left, Right] 구간에 포함된 데이터들의 합을 출력해야 한다. \n",
    "- 수행 시간 제한은 $O(N+M)$이다. "
   ]
  },
  {
   "cell_type": "markdown",
   "metadata": {},
   "source": [
    "<img src=\"./images/coma_135.png\" width=\"70%\" height=\"70%\" align=\"left\"></img>"
   ]
  },
  {
   "cell_type": "code",
   "execution_count": 9,
   "metadata": {},
   "outputs": [
    {
     "name": "stdout",
     "output_type": "stream",
     "text": [
      "70\n"
     ]
    }
   ],
   "source": [
    "# 구간 합 빠르게 계산하기 예제\n",
    "\n",
    "# 데이터의 개수 N과 데이터 입력받기\n",
    "n = 5\n",
    "data = [10, 20, 30, 40, 50]\n",
    "\n",
    "# 접두사 합(Prefix Sum) 배열 계산\n",
    "sum_value = 0\n",
    "prefix_sum = [0]\n",
    "for i in data:\n",
    "    sum_value += i\n",
    "    prefix_sum.append(sum_value)\n",
    "    \n",
    "# 구간 합 계산(세 번째 수부터 네 번째 수까지)\n",
    "left = 3\n",
    "right = 4\n",
    "print(prefix_sum[right] - prefix_sum[left-1])"
   ]
  }
 ],
 "metadata": {
  "kernelspec": {
   "display_name": "Python 3",
   "language": "python",
   "name": "python3"
  },
  "language_info": {
   "codemirror_mode": {
    "name": "ipython",
    "version": 3
   },
   "file_extension": ".py",
   "mimetype": "text/x-python",
   "name": "python",
   "nbconvert_exporter": "python",
   "pygments_lexer": "ipython3",
   "version": "3.7.9"
  }
 },
 "nbformat": 4,
 "nbformat_minor": 4
}
